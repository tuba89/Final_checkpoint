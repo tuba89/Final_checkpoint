{
  "nbformat": 4,
  "nbformat_minor": 0,
  "metadata": {
    "colab": {
      "name": "Home_Loan_Final_Check.ipynb",
      "provenance": [],
      "collapsed_sections": [
        "kaeFR1gIxjfO"
      ],
      "mount_file_id": "1D2J_STdaFAcZ76e33KdGum2z231yKb_1",
      "authorship_tag": "ABX9TyNDTWpOtpZChr0BiLJTmU3F",
      "include_colab_link": true
    },
    "kernelspec": {
      "name": "python3",
      "display_name": "Python 3"
    },
    "language_info": {
      "name": "python"
    }
  },
  "cells": [
    {
      "cell_type": "markdown",
      "metadata": {
        "id": "view-in-github",
        "colab_type": "text"
      },
      "source": [
        "<a href=\"https://colab.research.google.com/github/tuba89/Final_checkpoint/blob/main/Home_Loan_Final_Check.ipynb\" target=\"_parent\"><img src=\"https://colab.research.google.com/assets/colab-badge.svg\" alt=\"Open In Colab\"/></a>"
      ]
    },
    {
      "cell_type": "markdown",
      "metadata": {
        "id": "LlW88VH0llU2"
      },
      "source": [
        "#Description of the dataset:"
      ]
    },
    {
      "cell_type": "markdown",
      "metadata": {
        "id": "Cn2KjEybpSTk"
      },
      "source": [
        "- The Dataset of A housing finance company that provides “mortgage loans” for homes in Urban/ Semi Urban/ Rural area. \n",
        "- The company wants to automate the loan eligibility process based on customer information and identify which factors / customer segments are eligible for the loan.\n",
        "- the taget is: identify customer segments, whether they are eligible for the loan amount in order to be able to specifically target these customers.\n",
        "\n",
        "**Customer details provided when filling in the online request form:** \n",
        "- Loand_ID: unique id number\n",
        "- Gender: Male/Female\n",
        "- Married: yes/no\n",
        "- Dependents: Number of dependents \n",
        "- Education: Applicant Education (Graduate / Under Graduate) \n",
        "- Self_Employed: Self employed (y/n)\n",
        "- ApplicantIncome: Applicant income\n",
        "- CoapplicantIncome: Coapplicant income \n",
        "- LoanAmount: Loan amount in thousands \n",
        "- Loan_Amount_Term: Term of loan in months \n",
        "- Credit_History: credit history meets guidelines (les antécédents de crédit y or no)\t\n",
        "- Property_Area: Urban/ Semi Urban/ Rural \n",
        "- Loan_Status: Loan approved (Y/N) Y = approved, N= rejected\n",
        "\n"
      ]
    },
    {
      "cell_type": "code",
      "metadata": {
        "id": "mSFi831HlOaA"
      },
      "source": [
        "# Importing libraries\n",
        "import numpy as np\n",
        "import pandas as pd\n",
        "import seaborn as sns\n",
        "import matplotlib.pyplot as plt\n",
        "\n",
        "from sklearn.model_selection import train_test_split\n",
        "\n",
        "from sklearn.linear_model import LogisticRegression\n",
        "from sklearn.neighbors import KNeighborsClassifier\n",
        "from sklearn.tree import DecisionTreeClassifier\n",
        "from sklearn.ensemble import RandomForestClassifier\n",
        "from sklearn import svm\n",
        "\n",
        "from sklearn.metrics import confusion_matrix, accuracy_score, precision_score, recall_score, f1_score"
      ],
      "execution_count": null,
      "outputs": []
    },
    {
      "cell_type": "markdown",
      "metadata": {
        "id": "zKv4RNLkw30A"
      },
      "source": [
        "# Exploration & analyse"
      ]
    },
    {
      "cell_type": "code",
      "metadata": {
        "id": "rkwbBbSaxEIP"
      },
      "source": [
        "# Loading the Dataset\n",
        "path = \"/content/drive/MyDrive/loan.csv\"\n",
        "loan = pd.read_csv(path)"
      ],
      "execution_count": null,
      "outputs": []
    },
    {
      "cell_type": "code",
      "metadata": {
        "colab": {
          "base_uri": "https://localhost:8080/",
          "height": 194
        },
        "id": "Egm88SZyxjsF",
        "outputId": "cc4c7e35-f9c8-4e7e-8a97-e21ae0f44187"
      },
      "source": [
        "# printing the first 5 rows of the dataframe\n",
        "loan.head()"
      ],
      "execution_count": null,
      "outputs": [
        {
          "output_type": "execute_result",
          "data": {
            "text/html": [
              "<div>\n",
              "<style scoped>\n",
              "    .dataframe tbody tr th:only-of-type {\n",
              "        vertical-align: middle;\n",
              "    }\n",
              "\n",
              "    .dataframe tbody tr th {\n",
              "        vertical-align: top;\n",
              "    }\n",
              "\n",
              "    .dataframe thead th {\n",
              "        text-align: right;\n",
              "    }\n",
              "</style>\n",
              "<table border=\"1\" class=\"dataframe\">\n",
              "  <thead>\n",
              "    <tr style=\"text-align: right;\">\n",
              "      <th></th>\n",
              "      <th>Loan_ID</th>\n",
              "      <th>Gender</th>\n",
              "      <th>Married</th>\n",
              "      <th>Dependents</th>\n",
              "      <th>Education</th>\n",
              "      <th>Self_Employed</th>\n",
              "      <th>ApplicantIncome</th>\n",
              "      <th>CoapplicantIncome</th>\n",
              "      <th>LoanAmount</th>\n",
              "      <th>Loan_Amount_Term</th>\n",
              "      <th>Credit_History</th>\n",
              "      <th>Property_Area</th>\n",
              "      <th>Loan_Status</th>\n",
              "    </tr>\n",
              "  </thead>\n",
              "  <tbody>\n",
              "    <tr>\n",
              "      <th>0</th>\n",
              "      <td>LP001002</td>\n",
              "      <td>Male</td>\n",
              "      <td>No</td>\n",
              "      <td>0</td>\n",
              "      <td>Graduate</td>\n",
              "      <td>No</td>\n",
              "      <td>5849</td>\n",
              "      <td>0.0</td>\n",
              "      <td>NaN</td>\n",
              "      <td>360.0</td>\n",
              "      <td>1.0</td>\n",
              "      <td>Urban</td>\n",
              "      <td>Y</td>\n",
              "    </tr>\n",
              "    <tr>\n",
              "      <th>1</th>\n",
              "      <td>LP001003</td>\n",
              "      <td>Male</td>\n",
              "      <td>Yes</td>\n",
              "      <td>1</td>\n",
              "      <td>Graduate</td>\n",
              "      <td>No</td>\n",
              "      <td>4583</td>\n",
              "      <td>1508.0</td>\n",
              "      <td>128.0</td>\n",
              "      <td>360.0</td>\n",
              "      <td>1.0</td>\n",
              "      <td>Rural</td>\n",
              "      <td>N</td>\n",
              "    </tr>\n",
              "    <tr>\n",
              "      <th>2</th>\n",
              "      <td>LP001005</td>\n",
              "      <td>Male</td>\n",
              "      <td>Yes</td>\n",
              "      <td>0</td>\n",
              "      <td>Graduate</td>\n",
              "      <td>Yes</td>\n",
              "      <td>3000</td>\n",
              "      <td>0.0</td>\n",
              "      <td>66.0</td>\n",
              "      <td>360.0</td>\n",
              "      <td>1.0</td>\n",
              "      <td>Urban</td>\n",
              "      <td>Y</td>\n",
              "    </tr>\n",
              "    <tr>\n",
              "      <th>3</th>\n",
              "      <td>LP001006</td>\n",
              "      <td>Male</td>\n",
              "      <td>Yes</td>\n",
              "      <td>0</td>\n",
              "      <td>Not Graduate</td>\n",
              "      <td>No</td>\n",
              "      <td>2583</td>\n",
              "      <td>2358.0</td>\n",
              "      <td>120.0</td>\n",
              "      <td>360.0</td>\n",
              "      <td>1.0</td>\n",
              "      <td>Urban</td>\n",
              "      <td>Y</td>\n",
              "    </tr>\n",
              "    <tr>\n",
              "      <th>4</th>\n",
              "      <td>LP001008</td>\n",
              "      <td>Male</td>\n",
              "      <td>No</td>\n",
              "      <td>0</td>\n",
              "      <td>Graduate</td>\n",
              "      <td>No</td>\n",
              "      <td>6000</td>\n",
              "      <td>0.0</td>\n",
              "      <td>141.0</td>\n",
              "      <td>360.0</td>\n",
              "      <td>1.0</td>\n",
              "      <td>Urban</td>\n",
              "      <td>Y</td>\n",
              "    </tr>\n",
              "  </tbody>\n",
              "</table>\n",
              "</div>"
            ],
            "text/plain": [
              "    Loan_ID Gender Married  ... Credit_History Property_Area Loan_Status\n",
              "0  LP001002   Male      No  ...            1.0         Urban           Y\n",
              "1  LP001003   Male     Yes  ...            1.0         Rural           N\n",
              "2  LP001005   Male     Yes  ...            1.0         Urban           Y\n",
              "3  LP001006   Male     Yes  ...            1.0         Urban           Y\n",
              "4  LP001008   Male      No  ...            1.0         Urban           Y\n",
              "\n",
              "[5 rows x 13 columns]"
            ]
          },
          "metadata": {
            "tags": []
          },
          "execution_count": 3
        }
      ]
    },
    {
      "cell_type": "code",
      "metadata": {
        "colab": {
          "base_uri": "https://localhost:8080/"
        },
        "id": "QVZqHsDlxuhc",
        "outputId": "52639dea-69ff-4ddf-812e-63d6eb31449f"
      },
      "source": [
        "# number of rows and columns\n",
        "loan.shape"
      ],
      "execution_count": null,
      "outputs": [
        {
          "output_type": "execute_result",
          "data": {
            "text/plain": [
              "(614, 13)"
            ]
          },
          "metadata": {
            "tags": []
          },
          "execution_count": 4
        }
      ]
    },
    {
      "cell_type": "markdown",
      "metadata": {
        "id": "uhCmeR79x6YU"
      },
      "source": [
        "* There's 614 samples and 13 fearures"
      ]
    },
    {
      "cell_type": "code",
      "metadata": {
        "colab": {
          "base_uri": "https://localhost:8080/",
          "height": 282
        },
        "id": "2tYvxQVQx4ZU",
        "outputId": "f28ff8f9-abbd-44d0-e219-aa5f0155f574"
      },
      "source": [
        "# statistical measures\n",
        "loan.describe()"
      ],
      "execution_count": null,
      "outputs": [
        {
          "output_type": "execute_result",
          "data": {
            "text/html": [
              "<div>\n",
              "<style scoped>\n",
              "    .dataframe tbody tr th:only-of-type {\n",
              "        vertical-align: middle;\n",
              "    }\n",
              "\n",
              "    .dataframe tbody tr th {\n",
              "        vertical-align: top;\n",
              "    }\n",
              "\n",
              "    .dataframe thead th {\n",
              "        text-align: right;\n",
              "    }\n",
              "</style>\n",
              "<table border=\"1\" class=\"dataframe\">\n",
              "  <thead>\n",
              "    <tr style=\"text-align: right;\">\n",
              "      <th></th>\n",
              "      <th>ApplicantIncome</th>\n",
              "      <th>CoapplicantIncome</th>\n",
              "      <th>LoanAmount</th>\n",
              "      <th>Loan_Amount_Term</th>\n",
              "      <th>Credit_History</th>\n",
              "    </tr>\n",
              "  </thead>\n",
              "  <tbody>\n",
              "    <tr>\n",
              "      <th>count</th>\n",
              "      <td>614.000000</td>\n",
              "      <td>614.000000</td>\n",
              "      <td>592.000000</td>\n",
              "      <td>600.00000</td>\n",
              "      <td>564.000000</td>\n",
              "    </tr>\n",
              "    <tr>\n",
              "      <th>mean</th>\n",
              "      <td>5403.459283</td>\n",
              "      <td>1621.245798</td>\n",
              "      <td>146.412162</td>\n",
              "      <td>342.00000</td>\n",
              "      <td>0.842199</td>\n",
              "    </tr>\n",
              "    <tr>\n",
              "      <th>std</th>\n",
              "      <td>6109.041673</td>\n",
              "      <td>2926.248369</td>\n",
              "      <td>85.587325</td>\n",
              "      <td>65.12041</td>\n",
              "      <td>0.364878</td>\n",
              "    </tr>\n",
              "    <tr>\n",
              "      <th>min</th>\n",
              "      <td>150.000000</td>\n",
              "      <td>0.000000</td>\n",
              "      <td>9.000000</td>\n",
              "      <td>12.00000</td>\n",
              "      <td>0.000000</td>\n",
              "    </tr>\n",
              "    <tr>\n",
              "      <th>25%</th>\n",
              "      <td>2877.500000</td>\n",
              "      <td>0.000000</td>\n",
              "      <td>100.000000</td>\n",
              "      <td>360.00000</td>\n",
              "      <td>1.000000</td>\n",
              "    </tr>\n",
              "    <tr>\n",
              "      <th>50%</th>\n",
              "      <td>3812.500000</td>\n",
              "      <td>1188.500000</td>\n",
              "      <td>128.000000</td>\n",
              "      <td>360.00000</td>\n",
              "      <td>1.000000</td>\n",
              "    </tr>\n",
              "    <tr>\n",
              "      <th>75%</th>\n",
              "      <td>5795.000000</td>\n",
              "      <td>2297.250000</td>\n",
              "      <td>168.000000</td>\n",
              "      <td>360.00000</td>\n",
              "      <td>1.000000</td>\n",
              "    </tr>\n",
              "    <tr>\n",
              "      <th>max</th>\n",
              "      <td>81000.000000</td>\n",
              "      <td>41667.000000</td>\n",
              "      <td>700.000000</td>\n",
              "      <td>480.00000</td>\n",
              "      <td>1.000000</td>\n",
              "    </tr>\n",
              "  </tbody>\n",
              "</table>\n",
              "</div>"
            ],
            "text/plain": [
              "       ApplicantIncome  CoapplicantIncome  ...  Loan_Amount_Term  Credit_History\n",
              "count       614.000000         614.000000  ...         600.00000      564.000000\n",
              "mean       5403.459283        1621.245798  ...         342.00000        0.842199\n",
              "std        6109.041673        2926.248369  ...          65.12041        0.364878\n",
              "min         150.000000           0.000000  ...          12.00000        0.000000\n",
              "25%        2877.500000           0.000000  ...         360.00000        1.000000\n",
              "50%        3812.500000        1188.500000  ...         360.00000        1.000000\n",
              "75%        5795.000000        2297.250000  ...         360.00000        1.000000\n",
              "max       81000.000000       41667.000000  ...         480.00000        1.000000\n",
              "\n",
              "[8 rows x 5 columns]"
            ]
          },
          "metadata": {
            "tags": []
          },
          "execution_count": 5
        }
      ]
    },
    {
      "cell_type": "code",
      "metadata": {
        "colab": {
          "base_uri": "https://localhost:8080/"
        },
        "id": "XlLgLhjPyQ4H",
        "outputId": "4c906681-245f-4db1-c57a-3b0f51c6fb81"
      },
      "source": [
        "# number of .imissing values in each column\n",
        "loan.isnull().sum()"
      ],
      "execution_count": null,
      "outputs": [
        {
          "output_type": "execute_result",
          "data": {
            "text/plain": [
              "Loan_ID               0\n",
              "Gender               13\n",
              "Married               3\n",
              "Dependents           15\n",
              "Education             0\n",
              "Self_Employed        32\n",
              "ApplicantIncome       0\n",
              "CoapplicantIncome     0\n",
              "LoanAmount           22\n",
              "Loan_Amount_Term     14\n",
              "Credit_History       50\n",
              "Property_Area         0\n",
              "Loan_Status           0\n",
              "dtype: int64"
            ]
          },
          "metadata": {
            "tags": []
          },
          "execution_count": 6
        }
      ]
    },
    {
      "cell_type": "markdown",
      "metadata": {
        "id": "fPpR9Ois0J58"
      },
      "source": [
        "* There's lots of missing values such as :"
      ]
    },
    {
      "cell_type": "markdown",
      "metadata": {
        "id": "5LwR7CVsy6YA"
      },
      "source": [
        "Features         | Number of null values\n",
        "-----------------|----------------------\n",
        "Gender           |       13 \n",
        "Married          |       03\n",
        "Dependents       |       15 \n",
        "Self_Employed    |       32\n",
        "LoanAmount       |       22 \n",
        "Loan_Amount_Term |       14\n",
        "Credit_History   |       50\n"
      ]
    },
    {
      "cell_type": "code",
      "metadata": {
        "colab": {
          "base_uri": "https://localhost:8080/"
        },
        "id": "7zH3dUmZZUlw",
        "outputId": "08a77ec2-0bba-4bc6-dee2-bdd50b880ecb"
      },
      "source": [
        "loan.info()"
      ],
      "execution_count": null,
      "outputs": [
        {
          "output_type": "stream",
          "text": [
            "<class 'pandas.core.frame.DataFrame'>\n",
            "RangeIndex: 614 entries, 0 to 613\n",
            "Data columns (total 13 columns):\n",
            " #   Column             Non-Null Count  Dtype  \n",
            "---  ------             --------------  -----  \n",
            " 0   Loan_ID            614 non-null    object \n",
            " 1   Gender             601 non-null    object \n",
            " 2   Married            611 non-null    object \n",
            " 3   Dependents         599 non-null    object \n",
            " 4   Education          614 non-null    object \n",
            " 5   Self_Employed      582 non-null    object \n",
            " 6   ApplicantIncome    614 non-null    int64  \n",
            " 7   CoapplicantIncome  614 non-null    float64\n",
            " 8   LoanAmount         592 non-null    float64\n",
            " 9   Loan_Amount_Term   600 non-null    float64\n",
            " 10  Credit_History     564 non-null    float64\n",
            " 11  Property_Area      614 non-null    object \n",
            " 12  Loan_Status        614 non-null    object \n",
            "dtypes: float64(4), int64(1), object(8)\n",
            "memory usage: 62.5+ KB\n"
          ],
          "name": "stdout"
        }
      ]
    },
    {
      "cell_type": "markdown",
      "metadata": {
        "id": "Kgt-0yn3CwuA"
      },
      "source": [
        "* i'll fill the missing values in **married feature** with **No** wich mean not married because there dependents are missing i guess that they haven't dependents , no children no spouse .."
      ]
    },
    {
      "cell_type": "code",
      "metadata": {
        "id": "HykN0yqc_DWQ"
      },
      "source": [
        "# Fill the missing values in Married feature:\n",
        "loan['Married'] = loan['Married'].fillna(\"No\")"
      ],
      "execution_count": null,
      "outputs": []
    },
    {
      "cell_type": "code",
      "metadata": {
        "colab": {
          "base_uri": "https://localhost:8080/"
        },
        "id": "SXQL_qe7Q9eJ",
        "outputId": "33524f8c-61f7-424d-ce29-45c7f519bb4a"
      },
      "source": [
        "loan['Married'].value_counts()"
      ],
      "execution_count": null,
      "outputs": [
        {
          "output_type": "execute_result",
          "data": {
            "text/plain": [
              "Yes    398\n",
              "No     216\n",
              "Name: Married, dtype: int64"
            ]
          },
          "metadata": {
            "tags": []
          },
          "execution_count": 9
        }
      ]
    },
    {
      "cell_type": "code",
      "metadata": {
        "colab": {
          "base_uri": "https://localhost:8080/",
          "height": 307
        },
        "id": "NagY_hxPhLGH",
        "outputId": "029586b3-85f5-44e8-e4a9-1ee1aaa4b6d1"
      },
      "source": [
        "x = loan['Married']\n",
        "\n",
        "x.value_counts().plot(kind='bar')\n",
        "plt.xlabel('Marital Status', fontsize=14, c=\"r\")\n",
        "plt.ylabel('count', fontsize=14, c=\"r\")\n",
        "plt.title(\"Loan Marital Status \", fontsize=16, c=\"b\")\n",
        "plt.show()"
      ],
      "execution_count": null,
      "outputs": [
        {
          "output_type": "display_data",
          "data": {
            "image/png": "[encoded data removed]",
            "text/plain": [
              "<Figure size 432x288 with 1 Axes>"
            ]
          },
          "metadata": {
            "tags": [],
            "needs_background": "light"
          }
        }
      ]
    },
    {
      "cell_type": "markdown",
      "metadata": {
        "id": "BXaWUDUEhzql"
      },
      "source": [
        "* Most of the loans were approved to **married** compared to persons who are single or with no relationship."
      ]
    },
    {
      "cell_type": "code",
      "metadata": {
        "colab": {
          "base_uri": "https://localhost:8080/"
        },
        "id": "jePfA3GLCd6s",
        "outputId": "7f533fc0-1656-4370-e668-bff179e84d22"
      },
      "source": [
        "loan['Dependents'].value_counts()"
      ],
      "execution_count": null,
      "outputs": [
        {
          "output_type": "execute_result",
          "data": {
            "text/plain": [
              "0     345\n",
              "1     102\n",
              "2     101\n",
              "3+     51\n",
              "Name: Dependents, dtype: int64"
            ]
          },
          "metadata": {
            "tags": []
          },
          "execution_count": 11
        }
      ]
    },
    {
      "cell_type": "markdown",
      "metadata": {
        "id": "mOLOog8LDVBA"
      },
      "source": [
        "* i fill the missing values in **Dependents feature**, ((probabilité plus élevée d'avoir une personne à charge lorsqu'il sera marié))"
      ]
    },
    {
      "cell_type": "code",
      "metadata": {
        "id": "YDKIWvWbP8KJ"
      },
      "source": [
        "loan['Dependents'].fillna(loan['Married'], inplace=True)"
      ],
      "execution_count": null,
      "outputs": []
    },
    {
      "cell_type": "code",
      "metadata": {
        "colab": {
          "base_uri": "https://localhost:8080/"
        },
        "id": "px3DCTauNS-s",
        "outputId": "1170d4e3-1451-4bd5-9736-8398422e7dc1"
      },
      "source": [
        "loan['Dependents'].value_counts()"
      ],
      "execution_count": null,
      "outputs": [
        {
          "output_type": "execute_result",
          "data": {
            "text/plain": [
              "0      345\n",
              "1      102\n",
              "2      101\n",
              "3+      51\n",
              "Yes      8\n",
              "No       7\n",
              "Name: Dependents, dtype: int64"
            ]
          },
          "metadata": {
            "tags": []
          },
          "execution_count": 13
        }
      ]
    },
    {
      "cell_type": "code",
      "metadata": {
        "id": "hmp1LHT6SHAz"
      },
      "source": [
        "# converting categorical values to numerical\n",
        "loan['Dependents'] = loan['Dependents'].apply(lambda x : {'No' : 0, \n",
        "                                                          'Yes' : 1, \n",
        "                                                          '0' : 0, \n",
        "                                                          '1' : 1, \n",
        "                                                          '2' : 2, \n",
        "                                                          '3+' : 3}[x])"
      ],
      "execution_count": null,
      "outputs": []
    },
    {
      "cell_type": "code",
      "metadata": {
        "colab": {
          "base_uri": "https://localhost:8080/"
        },
        "id": "W3PepZuLSZ1z",
        "outputId": "c6325cbc-5165-482b-d36f-c10d3a92ed78"
      },
      "source": [
        "loan['Dependents'].value_counts()"
      ],
      "execution_count": null,
      "outputs": [
        {
          "output_type": "execute_result",
          "data": {
            "text/plain": [
              "0    352\n",
              "1    110\n",
              "2    101\n",
              "3     51\n",
              "Name: Dependents, dtype: int64"
            ]
          },
          "metadata": {
            "tags": []
          },
          "execution_count": 15
        }
      ]
    },
    {
      "cell_type": "code",
      "metadata": {
        "colab": {
          "base_uri": "https://localhost:8080/",
          "height": 298
        },
        "id": "cKioFZZWkSN0",
        "outputId": "00cd606c-6f24-4d17-8473-5e840536f2ee"
      },
      "source": [
        "loan['Dependents'].value_counts().plot(kind='bar')\n",
        "plt.xlabel('Dependents', fontsize=14, c=\"r\")\n",
        "plt.ylabel('Count', fontsize=14, c=\"r\")\n",
        "plt.title('Dependents of the Applicants', fontsize=16, c=\"b\")\n",
        "plt.show()"
      ],
      "execution_count": null,
      "outputs": [
        {
          "output_type": "display_data",
          "data": {
            "image/png": "[encoded data removed]",
            "text/plain": [
              "<Figure size 432x288 with 1 Axes>"
            ]
          },
          "metadata": {
            "tags": [],
            "needs_background": "light"
          }
        }
      ]
    },
    {
      "cell_type": "markdown",
      "metadata": {
        "id": "WpFEWxrskmIS"
      },
      "source": [
        "**Dependents** feature: From the analysis, There is a higher chance of getting home loan approval for applicants who have less number of dependents or no dependents. applicant with no charges."
      ]
    },
    {
      "cell_type": "code",
      "metadata": {
        "colab": {
          "base_uri": "https://localhost:8080/"
        },
        "id": "fGUawh_UGwrE",
        "outputId": "8186660b-c240-47f1-8e1e-0a3aa6b07d1e"
      },
      "source": [
        "loan['Gender'].value_counts()"
      ],
      "execution_count": null,
      "outputs": [
        {
          "output_type": "execute_result",
          "data": {
            "text/plain": [
              "Male      489\n",
              "Female    112\n",
              "Name: Gender, dtype: int64"
            ]
          },
          "metadata": {
            "tags": []
          },
          "execution_count": 17
        }
      ]
    },
    {
      "cell_type": "code",
      "metadata": {
        "colab": {
          "base_uri": "https://localhost:8080/"
        },
        "id": "m-fCJJRHTsOi",
        "outputId": "639dd0ca-84fd-49a1-dd69-288327c23240"
      },
      "source": [
        "loan.isnull().sum()"
      ],
      "execution_count": null,
      "outputs": [
        {
          "output_type": "execute_result",
          "data": {
            "text/plain": [
              "Loan_ID               0\n",
              "Gender               13\n",
              "Married               0\n",
              "Dependents            0\n",
              "Education             0\n",
              "Self_Employed        32\n",
              "ApplicantIncome       0\n",
              "CoapplicantIncome     0\n",
              "LoanAmount           22\n",
              "Loan_Amount_Term     14\n",
              "Credit_History       50\n",
              "Property_Area         0\n",
              "Loan_Status           0\n",
              "dtype: int64"
            ]
          },
          "metadata": {
            "tags": []
          },
          "execution_count": 18
        }
      ]
    },
    {
      "cell_type": "code",
      "metadata": {
        "colab": {
          "base_uri": "https://localhost:8080/"
        },
        "id": "IAkWh_qkU2Rm",
        "outputId": "35c7a57b-bc5d-48c4-ec8c-c8649949b4dc"
      },
      "source": [
        "loan.info()"
      ],
      "execution_count": null,
      "outputs": [
        {
          "output_type": "stream",
          "text": [
            "<class 'pandas.core.frame.DataFrame'>\n",
            "RangeIndex: 614 entries, 0 to 613\n",
            "Data columns (total 13 columns):\n",
            " #   Column             Non-Null Count  Dtype  \n",
            "---  ------             --------------  -----  \n",
            " 0   Loan_ID            614 non-null    object \n",
            " 1   Gender             601 non-null    object \n",
            " 2   Married            614 non-null    object \n",
            " 3   Dependents         614 non-null    int64  \n",
            " 4   Education          614 non-null    object \n",
            " 5   Self_Employed      582 non-null    object \n",
            " 6   ApplicantIncome    614 non-null    int64  \n",
            " 7   CoapplicantIncome  614 non-null    float64\n",
            " 8   LoanAmount         592 non-null    float64\n",
            " 9   Loan_Amount_Term   600 non-null    float64\n",
            " 10  Credit_History     564 non-null    float64\n",
            " 11  Property_Area      614 non-null    object \n",
            " 12  Loan_Status        614 non-null    object \n",
            "dtypes: float64(4), int64(2), object(7)\n",
            "memory usage: 62.5+ KB\n"
          ],
          "name": "stdout"
        }
      ]
    },
    {
      "cell_type": "code",
      "metadata": {
        "id": "6VwNx5PKUw5Y"
      },
      "source": [
        "# Fill the missing values in gender feature by majority (\"Male\"):\n",
        "loan['Gender'] = loan['Gender'].fillna('Male')"
      ],
      "execution_count": null,
      "outputs": []
    },
    {
      "cell_type": "code",
      "metadata": {
        "colab": {
          "base_uri": "https://localhost:8080/"
        },
        "id": "aydSmmPrUk6j",
        "outputId": "17609b51-6c6f-4c1a-a294-0dfaa73a3257"
      },
      "source": [
        "loan.isnull().sum()"
      ],
      "execution_count": null,
      "outputs": [
        {
          "output_type": "execute_result",
          "data": {
            "text/plain": [
              "Loan_ID               0\n",
              "Gender                0\n",
              "Married               0\n",
              "Dependents            0\n",
              "Education             0\n",
              "Self_Employed        32\n",
              "ApplicantIncome       0\n",
              "CoapplicantIncome     0\n",
              "LoanAmount           22\n",
              "Loan_Amount_Term     14\n",
              "Credit_History       50\n",
              "Property_Area         0\n",
              "Loan_Status           0\n",
              "dtype: int64"
            ]
          },
          "metadata": {
            "tags": []
          },
          "execution_count": 21
        }
      ]
    },
    {
      "cell_type": "code",
      "metadata": {
        "colab": {
          "base_uri": "https://localhost:8080/"
        },
        "id": "G0ylp6cwK9Ni",
        "outputId": "e58eeffc-f12f-45e7-e859-1a06ef0b56ab"
      },
      "source": [
        "loan['Gender'].value_counts()"
      ],
      "execution_count": null,
      "outputs": [
        {
          "output_type": "execute_result",
          "data": {
            "text/plain": [
              "Male      502\n",
              "Female    112\n",
              "Name: Gender, dtype: int64"
            ]
          },
          "metadata": {
            "tags": []
          },
          "execution_count": 22
        }
      ]
    },
    {
      "cell_type": "code",
      "metadata": {
        "id": "8v6jF3woVOV6"
      },
      "source": [
        "loan['Gender'] = loan['Gender'].map({\"Male\":1, \"Female\":0})"
      ],
      "execution_count": null,
      "outputs": []
    },
    {
      "cell_type": "code",
      "metadata": {
        "colab": {
          "base_uri": "https://localhost:8080/"
        },
        "id": "1DMCnllMHjER",
        "outputId": "5fb7d43b-b7d0-4799-f3b5-33b326ca8fcd"
      },
      "source": [
        "loan.info() "
      ],
      "execution_count": null,
      "outputs": [
        {
          "output_type": "stream",
          "text": [
            "<class 'pandas.core.frame.DataFrame'>\n",
            "RangeIndex: 614 entries, 0 to 613\n",
            "Data columns (total 13 columns):\n",
            " #   Column             Non-Null Count  Dtype  \n",
            "---  ------             --------------  -----  \n",
            " 0   Loan_ID            614 non-null    object \n",
            " 1   Gender             614 non-null    int64  \n",
            " 2   Married            614 non-null    object \n",
            " 3   Dependents         614 non-null    int64  \n",
            " 4   Education          614 non-null    object \n",
            " 5   Self_Employed      582 non-null    object \n",
            " 6   ApplicantIncome    614 non-null    int64  \n",
            " 7   CoapplicantIncome  614 non-null    float64\n",
            " 8   LoanAmount         592 non-null    float64\n",
            " 9   Loan_Amount_Term   600 non-null    float64\n",
            " 10  Credit_History     564 non-null    float64\n",
            " 11  Property_Area      614 non-null    object \n",
            " 12  Loan_Status        614 non-null    object \n",
            "dtypes: float64(4), int64(3), object(6)\n",
            "memory usage: 62.5+ KB\n"
          ],
          "name": "stdout"
        }
      ]
    },
    {
      "cell_type": "code",
      "metadata": {
        "colab": {
          "base_uri": "https://localhost:8080/",
          "height": 298
        },
        "id": "1vNU2T1diXea",
        "outputId": "10a7fd78-f30d-42e2-e7b3-6358e51cd346"
      },
      "source": [
        "\n",
        "loan['Gender'].value_counts().plot(kind='bar')\n",
        "plt.xlabel('Gender', fontsize=14, c=\"r\")\n",
        "plt.ylabel('Count', fontsize=14, c=\"r\")\n",
        "plt.title('Gender of Applicants', fontsize=16, c=\"b\")\n",
        "plt.show()"
      ],
      "execution_count": null,
      "outputs": [
        {
          "output_type": "display_data",
          "data": {
            "image/png": "[encoded data removed]",
            "text/plain": [
              "<Figure size 432x288 with 1 Axes>"
            ]
          },
          "metadata": {
            "tags": [],
            "needs_background": "light"
          }
        }
      ]
    },
    {
      "cell_type": "markdown",
      "metadata": {
        "id": "7gNt3EkbjGDh"
      },
      "source": [
        "Gender **Male** is more frequent then female. men are more home loan applicant than women."
      ]
    },
    {
      "cell_type": "code",
      "metadata": {
        "colab": {
          "base_uri": "https://localhost:8080/"
        },
        "id": "9zmcL9gpGOZt",
        "outputId": "a1562e7a-6f0a-457f-d0f9-faae77d843a5"
      },
      "source": [
        "loan['Property_Area'].value_counts()"
      ],
      "execution_count": null,
      "outputs": [
        {
          "output_type": "execute_result",
          "data": {
            "text/plain": [
              "Semiurban    233\n",
              "Urban        202\n",
              "Rural        179\n",
              "Name: Property_Area, dtype: int64"
            ]
          },
          "metadata": {
            "tags": []
          },
          "execution_count": 26
        }
      ]
    },
    {
      "cell_type": "code",
      "metadata": {
        "colab": {
          "base_uri": "https://localhost:8080/"
        },
        "id": "eXnQAJHFqykx",
        "outputId": "9a1c4712-a3a2-41f0-e7a6-00516e062ec8"
      },
      "source": [
        "loan['Property_Area'].value_counts(normalize=True)*100"
      ],
      "execution_count": null,
      "outputs": [
        {
          "output_type": "execute_result",
          "data": {
            "text/plain": [
              "Semiurban    37.947883\n",
              "Urban        32.899023\n",
              "Rural        29.153094\n",
              "Name: Property_Area, dtype: float64"
            ]
          },
          "metadata": {
            "tags": []
          },
          "execution_count": 27
        }
      ]
    },
    {
      "cell_type": "code",
      "metadata": {
        "colab": {
          "base_uri": "https://localhost:8080/",
          "height": 343
        },
        "id": "xjH3gPA0q5ru",
        "outputId": "1eb19119-b0c1-4e47-837c-ad4fd3145637"
      },
      "source": [
        "loan['Property_Area'].value_counts(normalize=True).plot.bar(title='Property_Area',color=\"salmon\")"
      ],
      "execution_count": null,
      "outputs": [
        {
          "output_type": "execute_result",
          "data": {
            "text/plain": [
              "<matplotlib.axes._subplots.AxesSubplot at 0x7f8572881690>"
            ]
          },
          "metadata": {
            "tags": []
          },
          "execution_count": 28
        },
        {
          "output_type": "display_data",
          "data": {
            "image/png": "[encoded data removed]",
            "text/plain": [
              "<Figure size 432x288 with 1 Axes>"
            ]
          },
          "metadata": {
            "tags": [],
            "needs_background": "light"
          }
        }
      ]
    },
    {
      "cell_type": "markdown",
      "metadata": {
        "id": "oaRkMQKcrIAS"
      },
      "source": [
        "$38$% people from **Semiurban** area\n",
        "\n",
        "$33$% people from **Urban** area\n",
        "\n",
        "$29$% people from **Rural** area.\n",
        "\n",
        "There's no big difference."
      ]
    },
    {
      "cell_type": "code",
      "metadata": {
        "colab": {
          "base_uri": "https://localhost:8080/"
        },
        "id": "gy0fb8BafT-7",
        "outputId": "779dc499-fcd4-45be-9d19-796116c44490"
      },
      "source": [
        "loan['Credit_History'].value_counts()"
      ],
      "execution_count": null,
      "outputs": [
        {
          "output_type": "execute_result",
          "data": {
            "text/plain": [
              "1.0    475\n",
              "0.0     89\n",
              "Name: Credit_History, dtype: int64"
            ]
          },
          "metadata": {
            "tags": []
          },
          "execution_count": 29
        }
      ]
    },
    {
      "cell_type": "code",
      "metadata": {
        "colab": {
          "base_uri": "https://localhost:8080/"
        },
        "id": "8XP4uJs6fFtK",
        "outputId": "20206b65-ba4c-428e-e7a1-622cc632b7cd"
      },
      "source": [
        "loan['Credit_History'].value_counts(normalize=True)*100"
      ],
      "execution_count": null,
      "outputs": [
        {
          "output_type": "execute_result",
          "data": {
            "text/plain": [
              "1.0    84.219858\n",
              "0.0    15.780142\n",
              "Name: Credit_History, dtype: float64"
            ]
          },
          "metadata": {
            "tags": []
          },
          "execution_count": 30
        }
      ]
    },
    {
      "cell_type": "code",
      "metadata": {
        "colab": {
          "base_uri": "https://localhost:8080/",
          "height": 305
        },
        "id": "QMFca8eafbaP",
        "outputId": "07bc2dbb-9b78-4c26-e033-c8605423f5e1"
      },
      "source": [
        "loan['Credit_History'].value_counts(normalize=True).plot.bar(title='Credit_History',color=\"mediumpurple\")"
      ],
      "execution_count": null,
      "outputs": [
        {
          "output_type": "execute_result",
          "data": {
            "text/plain": [
              "<matplotlib.axes._subplots.AxesSubplot at 0x7f8571daa6d0>"
            ]
          },
          "metadata": {
            "tags": []
          },
          "execution_count": 31
        },
        {
          "output_type": "display_data",
          "data": {
            "image/png": "[encoded data removed]",
            "text/plain": [
              "<Figure size 432x288 with 1 Axes>"
            ]
          },
          "metadata": {
            "tags": [],
            "needs_background": "light"
          }
        }
      ]
    },
    {
      "cell_type": "markdown",
      "metadata": {
        "id": "xUw0L0TAhjqL"
      },
      "source": [
        "**Credit History** feature: Most of applicant have paid there debts, about 84% paid the debts and around 16% have not."
      ]
    },
    {
      "cell_type": "markdown",
      "metadata": {
        "id": "UDUmpEEInQ2M"
      },
      "source": [
        "* There is missing values in cresit history, i guess that there's no records, perhaps thet have not demand a loan before or something else, \n",
        "    - 1st: i don't want to loose data by just dropping the rows of missingness\n",
        "    - 2nd i can fill the **NaN** by 0 wich mean no records, but in this case 0 mean they didn't pay their debts.\n",
        "    - wich mean,i go for the most frequent number, as this is 84% of the applicant paid their debts, so most likely to be true"
      ]
    },
    {
      "cell_type": "code",
      "metadata": {
        "id": "wwAfsKrTKZRi"
      },
      "source": [
        "# fill the credit history by \"1\" the most frequent value and this mean they paid their depts\n",
        "loan['Credit_History'] = loan['Credit_History'].fillna(1)"
      ],
      "execution_count": null,
      "outputs": []
    },
    {
      "cell_type": "code",
      "metadata": {
        "colab": {
          "base_uri": "https://localhost:8080/"
        },
        "id": "dhMDlXETo_Pj",
        "outputId": "c60e3a10-de54-4918-a483-58731921700c"
      },
      "source": [
        "loan[\"Education\"].value_counts(normalize=True)*100"
      ],
      "execution_count": null,
      "outputs": [
        {
          "output_type": "execute_result",
          "data": {
            "text/plain": [
              "Graduate        78.175896\n",
              "Not Graduate    21.824104\n",
              "Name: Education, dtype: float64"
            ]
          },
          "metadata": {
            "tags": []
          },
          "execution_count": 33
        }
      ]
    },
    {
      "cell_type": "code",
      "metadata": {
        "colab": {
          "base_uri": "https://localhost:8080/",
          "height": 356
        },
        "id": "PuREKsCLpdFL",
        "outputId": "143f5f2e-17df-4588-bb0e-26031f949d48"
      },
      "source": [
        "loan[\"Education\"].value_counts(normalize=True).plot.bar(title = \"Education\", color='forestgreen')"
      ],
      "execution_count": null,
      "outputs": [
        {
          "output_type": "execute_result",
          "data": {
            "text/plain": [
              "<matplotlib.axes._subplots.AxesSubplot at 0x7f8571d23110>"
            ]
          },
          "metadata": {
            "tags": []
          },
          "execution_count": 34
        },
        {
          "output_type": "display_data",
          "data": {
            "image/png": "[encoded data removed]",
            "text/plain": [
              "<Figure size 432x288 with 1 Axes>"
            ]
          },
          "metadata": {
            "tags": [],
            "needs_background": "light"
          }
        }
      ]
    },
    {
      "cell_type": "markdown",
      "metadata": {
        "id": "ysqjijdHp5Ol"
      },
      "source": [
        "**$78$** **%** are **Graduated** and about **$22$%** are **not Graduated**"
      ]
    },
    {
      "cell_type": "code",
      "metadata": {
        "colab": {
          "base_uri": "https://localhost:8080/"
        },
        "id": "CFHcKnJgsWXS",
        "outputId": "c2845ee4-ab29-4579-8d21-71a97b37fb28"
      },
      "source": [
        "loan['Self_Employed'].value_counts()"
      ],
      "execution_count": null,
      "outputs": [
        {
          "output_type": "execute_result",
          "data": {
            "text/plain": [
              "No     500\n",
              "Yes     82\n",
              "Name: Self_Employed, dtype: int64"
            ]
          },
          "metadata": {
            "tags": []
          },
          "execution_count": 35
        }
      ]
    },
    {
      "cell_type": "code",
      "metadata": {
        "colab": {
          "base_uri": "https://localhost:8080/",
          "height": 305
        },
        "id": "w6LVnJrDsB1Y",
        "outputId": "04566df5-55fb-4811-de31-5a5c32d0fdf2"
      },
      "source": [
        "\n",
        "loan['Self_Employed'].value_counts(normalize=True).plot.bar(title='Self_Employed', color='coral')"
      ],
      "execution_count": null,
      "outputs": [
        {
          "output_type": "execute_result",
          "data": {
            "text/plain": [
              "<matplotlib.axes._subplots.AxesSubplot at 0x7f8571ca4910>"
            ]
          },
          "metadata": {
            "tags": []
          },
          "execution_count": 36
        },
        {
          "output_type": "display_data",
          "data": {
            "image/png": "[encoded data removed]",
            "text/plain": [
              "<Figure size 432x288 with 1 Axes>"
            ]
          },
          "metadata": {
            "tags": [],
            "needs_background": "light"
          }
        }
      ]
    },
    {
      "cell_type": "code",
      "metadata": {
        "colab": {
          "base_uri": "https://localhost:8080/"
        },
        "id": "ISw0lejmtHgs",
        "outputId": "70334ce0-dd40-4eae-fd92-120857ec01a8"
      },
      "source": [
        "loan['Self_Employed'].value_counts(normalize=True)*100"
      ],
      "execution_count": null,
      "outputs": [
        {
          "output_type": "execute_result",
          "data": {
            "text/plain": [
              "No     85.910653\n",
              "Yes    14.089347\n",
              "Name: Self_Employed, dtype: float64"
            ]
          },
          "metadata": {
            "tags": []
          },
          "execution_count": 37
        }
      ]
    },
    {
      "cell_type": "markdown",
      "metadata": {
        "id": "4mbUAI4ttJe8"
      },
      "source": [
        "* the majority of applicants are employees about $86$% of the applicant"
      ]
    },
    {
      "cell_type": "code",
      "metadata": {
        "colab": {
          "base_uri": "https://localhost:8080/"
        },
        "id": "1NvOQVtozzFo",
        "outputId": "1572ed8f-bab4-4545-a014-15404dcdf758"
      },
      "source": [
        "loan['Loan_Amount_Term'].value_counts()"
      ],
      "execution_count": null,
      "outputs": [
        {
          "output_type": "execute_result",
          "data": {
            "text/plain": [
              "360.0    512\n",
              "180.0     44\n",
              "480.0     15\n",
              "300.0     13\n",
              "84.0       4\n",
              "240.0      4\n",
              "120.0      3\n",
              "36.0       2\n",
              "60.0       2\n",
              "12.0       1\n",
              "Name: Loan_Amount_Term, dtype: int64"
            ]
          },
          "metadata": {
            "tags": []
          },
          "execution_count": 38
        }
      ]
    },
    {
      "cell_type": "markdown",
      "metadata": {
        "id": "Urs6LuRHyixo"
      },
      "source": [
        "* The majority of the loans taken are for **360 Months** wich mean $30$ years. "
      ]
    },
    {
      "cell_type": "code",
      "metadata": {
        "colab": {
          "base_uri": "https://localhost:8080/",
          "height": 338
        },
        "id": "y5WYqzjT1oVz",
        "outputId": "77cbb3ea-d7ad-4350-c988-d926e73e137c"
      },
      "source": [
        "loan['ApplicantIncome'].plot.box(figsize=(10,5))"
      ],
      "execution_count": null,
      "outputs": [
        {
          "output_type": "execute_result",
          "data": {
            "text/plain": [
              "<matplotlib.axes._subplots.AxesSubplot at 0x7f8571c8de90>"
            ]
          },
          "metadata": {
            "tags": []
          },
          "execution_count": 39
        },
        {
          "output_type": "display_data",
          "data": {
            "image/png": "[encoded data removed]",
            "text/plain": [
              "<Figure size 720x360 with 1 Axes>"
            ]
          },
          "metadata": {
            "tags": [],
            "needs_background": "light"
          }
        }
      ]
    },
    {
      "cell_type": "code",
      "metadata": {
        "colab": {
          "base_uri": "https://localhost:8080/"
        },
        "id": "zjI6aKyH2O7v",
        "outputId": "3780328e-0a1d-4bcb-9413-f2bf55d1c02a"
      },
      "source": [
        "loan['ApplicantIncome'].value_counts()"
      ],
      "execution_count": null,
      "outputs": [
        {
          "output_type": "execute_result",
          "data": {
            "text/plain": [
              "2500    9\n",
              "4583    6\n",
              "2600    6\n",
              "6000    6\n",
              "5000    5\n",
              "       ..\n",
              "5818    1\n",
              "5819    1\n",
              "5821    1\n",
              "2750    1\n",
              "3691    1\n",
              "Name: ApplicantIncome, Length: 505, dtype: int64"
            ]
          },
          "metadata": {
            "tags": []
          },
          "execution_count": 40
        }
      ]
    },
    {
      "cell_type": "code",
      "metadata": {
        "colab": {
          "base_uri": "https://localhost:8080/",
          "height": 338
        },
        "id": "Tt1mjXkm1nrk",
        "outputId": "4caa8917-b6de-49d9-c99c-e6cb962b46ec"
      },
      "source": [
        "loan['CoapplicantIncome'].plot.box(figsize=(10,5))"
      ],
      "execution_count": null,
      "outputs": [
        {
          "output_type": "execute_result",
          "data": {
            "text/plain": [
              "<matplotlib.axes._subplots.AxesSubplot at 0x7f8571bfbad0>"
            ]
          },
          "metadata": {
            "tags": []
          },
          "execution_count": 41
        },
        {
          "output_type": "display_data",
          "data": {
            "image/png": "[encoded data removed]",
            "text/plain": [
              "<Figure size 720x360 with 1 Axes>"
            ]
          },
          "metadata": {
            "tags": [],
            "needs_background": "light"
          }
        }
      ]
    },
    {
      "cell_type": "code",
      "metadata": {
        "colab": {
          "base_uri": "https://localhost:8080/",
          "height": 338
        },
        "id": "cx0InCMzvrvn",
        "outputId": "257d7c93-0f94-4a3e-ccb3-37b8e5c49418"
      },
      "source": [
        "loan['LoanAmount'].plot.box(figsize=(10,5))"
      ],
      "execution_count": null,
      "outputs": [
        {
          "output_type": "execute_result",
          "data": {
            "text/plain": [
              "<matplotlib.axes._subplots.AxesSubplot at 0x7f8571b6da10>"
            ]
          },
          "metadata": {
            "tags": []
          },
          "execution_count": 42
        },
        {
          "output_type": "display_data",
          "data": {
            "image/png": "[encoded data removed]",
            "text/plain": [
              "<Figure size 720x360 with 1 Axes>"
            ]
          },
          "metadata": {
            "tags": [],
            "needs_background": "light"
          }
        }
      ]
    },
    {
      "cell_type": "code",
      "metadata": {
        "id": "hmRL_N-F3MK5",
        "colab": {
          "base_uri": "https://localhost:8080/"
        },
        "outputId": "929b1505-8fd9-415f-ab04-2b54a5686532"
      },
      "source": [
        "loan.info()"
      ],
      "execution_count": null,
      "outputs": [
        {
          "output_type": "stream",
          "text": [
            "<class 'pandas.core.frame.DataFrame'>\n",
            "RangeIndex: 614 entries, 0 to 613\n",
            "Data columns (total 13 columns):\n",
            " #   Column             Non-Null Count  Dtype  \n",
            "---  ------             --------------  -----  \n",
            " 0   Loan_ID            614 non-null    object \n",
            " 1   Gender             614 non-null    int64  \n",
            " 2   Married            614 non-null    object \n",
            " 3   Dependents         614 non-null    int64  \n",
            " 4   Education          614 non-null    object \n",
            " 5   Self_Employed      582 non-null    object \n",
            " 6   ApplicantIncome    614 non-null    int64  \n",
            " 7   CoapplicantIncome  614 non-null    float64\n",
            " 8   LoanAmount         592 non-null    float64\n",
            " 9   Loan_Amount_Term   600 non-null    float64\n",
            " 10  Credit_History     614 non-null    float64\n",
            " 11  Property_Area      614 non-null    object \n",
            " 12  Loan_Status        614 non-null    object \n",
            "dtypes: float64(4), int64(3), object(6)\n",
            "memory usage: 62.5+ KB\n"
          ],
          "name": "stdout"
        }
      ]
    },
    {
      "cell_type": "code",
      "metadata": {
        "colab": {
          "base_uri": "https://localhost:8080/"
        },
        "id": "TECsdgMk3UIw",
        "outputId": "a6b5884a-9d3b-44eb-bbff-c6ea97b1c102"
      },
      "source": [
        "loan.isnull().sum()"
      ],
      "execution_count": null,
      "outputs": [
        {
          "output_type": "execute_result",
          "data": {
            "text/plain": [
              "Loan_ID               0\n",
              "Gender                0\n",
              "Married               0\n",
              "Dependents            0\n",
              "Education             0\n",
              "Self_Employed        32\n",
              "ApplicantIncome       0\n",
              "CoapplicantIncome     0\n",
              "LoanAmount           22\n",
              "Loan_Amount_Term     14\n",
              "Credit_History        0\n",
              "Property_Area         0\n",
              "Loan_Status           0\n",
              "dtype: int64"
            ]
          },
          "metadata": {
            "tags": []
          },
          "execution_count": 44
        }
      ]
    },
    {
      "cell_type": "code",
      "metadata": {
        "id": "HmfE2wlOgtae"
      },
      "source": [
        "# fill the NaN values in self-emplyed feature\n",
        "# salary less then 5000 is an employee (no), else (>5000) is self-emplyed (yes)\n",
        "missing_val = loan['Self_Employed'].isna()\n",
        "mapping_dict = dict({'0-5000': 'No'})\n",
        "loan.loc[missing_val, 'Self_Employed'] = loan.loc[missing_val, 'ApplicantIncome'].map(mapping_dict)\n",
        "loan.loc[missing_val, 'Self_Employed'] = loan.loc[missing_val, 'Self_Employed'].fillna('Yes')\n"
      ],
      "execution_count": null,
      "outputs": []
    },
    {
      "cell_type": "code",
      "metadata": {
        "colab": {
          "base_uri": "https://localhost:8080/"
        },
        "id": "Yb7ce4cpsHXY",
        "outputId": "64661979-e68c-4e35-d6a1-de92ebbfd397"
      },
      "source": [
        "loan.isnull().sum()"
      ],
      "execution_count": null,
      "outputs": [
        {
          "output_type": "execute_result",
          "data": {
            "text/plain": [
              "Loan_ID               0\n",
              "Gender                0\n",
              "Married               0\n",
              "Dependents            0\n",
              "Education             0\n",
              "Self_Employed         0\n",
              "ApplicantIncome       0\n",
              "CoapplicantIncome     0\n",
              "LoanAmount           22\n",
              "Loan_Amount_Term     14\n",
              "Credit_History        0\n",
              "Property_Area         0\n",
              "Loan_Status           0\n",
              "dtype: int64"
            ]
          },
          "metadata": {
            "tags": []
          },
          "execution_count": 46
        }
      ]
    },
    {
      "cell_type": "code",
      "metadata": {
        "id": "bi4MH3ttyPxC"
      },
      "source": [
        "# fill missing values in Term feature by 360 (frequent value)\n",
        "loan['Loan_Amount_Term'].fillna(360, inplace=True)"
      ],
      "execution_count": null,
      "outputs": []
    },
    {
      "cell_type": "code",
      "metadata": {
        "colab": {
          "base_uri": "https://localhost:8080/"
        },
        "id": "sF5ixgH9zFFN",
        "outputId": "847151e0-5b30-4e1b-f1fb-693773837217"
      },
      "source": [
        "loan.isnull().sum()"
      ],
      "execution_count": null,
      "outputs": [
        {
          "output_type": "execute_result",
          "data": {
            "text/plain": [
              "Loan_ID               0\n",
              "Gender                0\n",
              "Married               0\n",
              "Dependents            0\n",
              "Education             0\n",
              "Self_Employed         0\n",
              "ApplicantIncome       0\n",
              "CoapplicantIncome     0\n",
              "LoanAmount           22\n",
              "Loan_Amount_Term      0\n",
              "Credit_History        0\n",
              "Property_Area         0\n",
              "Loan_Status           0\n",
              "dtype: int64"
            ]
          },
          "metadata": {
            "tags": []
          },
          "execution_count": 48
        }
      ]
    },
    {
      "cell_type": "code",
      "metadata": {
        "id": "2rA6g_cazN3O"
      },
      "source": [
        "# correct some values in loan amount term to avoid bad accuracy\n",
        "# for example replacing 12 by 120 , 36 by 360 ... etc\n",
        "loan['Loan_Amount_Term'] = np.where((loan.Loan_Amount_Term == 12 ), 120, loan.Loan_Amount_Term)\n",
        "loan['Loan_Amount_Term'] = np.where((loan.Loan_Amount_Term == 36 ), 360, loan.Loan_Amount_Term)\n",
        "loan['Loan_Amount_Term'] = np.where((loan.Loan_Amount_Term == 60 ), 360, loan.Loan_Amount_Term)\n"
      ],
      "execution_count": null,
      "outputs": []
    },
    {
      "cell_type": "code",
      "metadata": {
        "colab": {
          "base_uri": "https://localhost:8080/"
        },
        "id": "WXKsLwCGDOt4",
        "outputId": "ebc47b03-7a22-40e0-e98c-ef88bc8604b5"
      },
      "source": [
        "loan['Loan_Amount_Term'].value_counts()"
      ],
      "execution_count": null,
      "outputs": [
        {
          "output_type": "execute_result",
          "data": {
            "text/plain": [
              "360.0    530\n",
              "180.0     44\n",
              "480.0     15\n",
              "300.0     13\n",
              "84.0       4\n",
              "240.0      4\n",
              "120.0      4\n",
              "Name: Loan_Amount_Term, dtype: int64"
            ]
          },
          "metadata": {
            "tags": []
          },
          "execution_count": 50
        }
      ]
    },
    {
      "cell_type": "code",
      "metadata": {
        "colab": {
          "base_uri": "https://localhost:8080/",
          "height": 283
        },
        "id": "ZhBHQ-XC1uzF",
        "outputId": "319336bb-0833-4d8f-f841-367e6cbbf235"
      },
      "source": [
        "loan['LoanAmount'].hist(bins=20)"
      ],
      "execution_count": null,
      "outputs": [
        {
          "output_type": "execute_result",
          "data": {
            "text/plain": [
              "<matplotlib.axes._subplots.AxesSubplot at 0x7f8571b5df50>"
            ]
          },
          "metadata": {
            "tags": []
          },
          "execution_count": 51
        },
        {
          "output_type": "display_data",
          "data": {
            "image/png": "[encoded data removed]",
            "text/plain": [
              "<Figure size 432x288 with 1 Axes>"
            ]
          },
          "metadata": {
            "tags": [],
            "needs_background": "light"
          }
        }
      ]
    },
    {
      "cell_type": "markdown",
      "metadata": {
        "id": "ycrjxrsl2nCU"
      },
      "source": [
        "* Loan Amount is an important feature we can fill it based on loan status:\n",
        "    - if **loan status = \"Y\"** it means *approved*, then i fill the missing values in loan amount by **the mean of loan amounts when the status is \"Y\"**\n",
        "    - if **loan status = \"N\"** *not-approved*, i fill the nulls by the **mean of loans when status = \"N\"**\n",
        "    "
      ]
    },
    {
      "cell_type": "code",
      "metadata": {
        "colab": {
          "base_uri": "https://localhost:8080/",
          "height": 282
        },
        "id": "ZiDxDkih4D0a",
        "outputId": "ee1c09e5-7479-414a-bf2f-3610dd776a03"
      },
      "source": [
        "loan[~loan['LoanAmount'].isnull()].groupby('Loan_Status').describe().T.loc['LoanAmount']"
      ],
      "execution_count": null,
      "outputs": [
        {
          "output_type": "execute_result",
          "data": {
            "text/html": [
              "<div>\n",
              "<style scoped>\n",
              "    .dataframe tbody tr th:only-of-type {\n",
              "        vertical-align: middle;\n",
              "    }\n",
              "\n",
              "    .dataframe tbody tr th {\n",
              "        vertical-align: top;\n",
              "    }\n",
              "\n",
              "    .dataframe thead th {\n",
              "        text-align: right;\n",
              "    }\n",
              "</style>\n",
              "<table border=\"1\" class=\"dataframe\">\n",
              "  <thead>\n",
              "    <tr style=\"text-align: right;\">\n",
              "      <th>Loan_Status</th>\n",
              "      <th>N</th>\n",
              "      <th>Y</th>\n",
              "    </tr>\n",
              "  </thead>\n",
              "  <tbody>\n",
              "    <tr>\n",
              "      <th>count</th>\n",
              "      <td>181.000000</td>\n",
              "      <td>411.000000</td>\n",
              "    </tr>\n",
              "    <tr>\n",
              "      <th>mean</th>\n",
              "      <td>151.220994</td>\n",
              "      <td>144.294404</td>\n",
              "    </tr>\n",
              "    <tr>\n",
              "      <th>std</th>\n",
              "      <td>85.862783</td>\n",
              "      <td>85.484607</td>\n",
              "    </tr>\n",
              "    <tr>\n",
              "      <th>min</th>\n",
              "      <td>9.000000</td>\n",
              "      <td>17.000000</td>\n",
              "    </tr>\n",
              "    <tr>\n",
              "      <th>25%</th>\n",
              "      <td>100.000000</td>\n",
              "      <td>100.000000</td>\n",
              "    </tr>\n",
              "    <tr>\n",
              "      <th>50%</th>\n",
              "      <td>129.000000</td>\n",
              "      <td>126.000000</td>\n",
              "    </tr>\n",
              "    <tr>\n",
              "      <th>75%</th>\n",
              "      <td>176.000000</td>\n",
              "      <td>161.000000</td>\n",
              "    </tr>\n",
              "    <tr>\n",
              "      <th>max</th>\n",
              "      <td>570.000000</td>\n",
              "      <td>700.000000</td>\n",
              "    </tr>\n",
              "  </tbody>\n",
              "</table>\n",
              "</div>"
            ],
            "text/plain": [
              "Loan_Status           N           Y\n",
              "count        181.000000  411.000000\n",
              "mean         151.220994  144.294404\n",
              "std           85.862783   85.484607\n",
              "min            9.000000   17.000000\n",
              "25%          100.000000  100.000000\n",
              "50%          129.000000  126.000000\n",
              "75%          176.000000  161.000000\n",
              "max          570.000000  700.000000"
            ]
          },
          "metadata": {
            "tags": []
          },
          "execution_count": 52
        }
      ]
    },
    {
      "cell_type": "markdown",
      "metadata": {
        "id": "L3YNtBO-4O7P"
      },
      "source": [
        "####the mean of **N** (`Rejected`) $\\approx$ 151 \n",
        "####& the mean of **Y** (`approved`) $\\approx$ 144"
      ]
    },
    {
      "cell_type": "code",
      "metadata": {
        "id": "wwk12kJv6uT5"
      },
      "source": [
        "for row in range(loan.shape[0]):\n",
        "        if pd.isnull(loan.loc[row, 'LoanAmount']):\n",
        "            if loan.loc[row, 'Loan_Status'] == 'Y':\n",
        "                loan.loc[row, 'LoanAmount'] = 151.22\n",
        "            elif loan.loc[row, 'Loan_Status'] == 'N':\n",
        "                loan.loc[row, 'LoanAmount'] = 144.29"
      ],
      "execution_count": null,
      "outputs": []
    },
    {
      "cell_type": "code",
      "metadata": {
        "id": "zT__-naLIOJ0"
      },
      "source": [
        "# change some columns type to integer\n",
        "loan.Loan_Amount_Term = loan.Loan_Amount_Term.astype(\"int\")  \n",
        "loan.Credit_History = loan.Credit_History.astype(\"int\")  "
      ],
      "execution_count": null,
      "outputs": []
    },
    {
      "cell_type": "code",
      "metadata": {
        "colab": {
          "base_uri": "https://localhost:8080/",
          "height": 135
        },
        "id": "U6cdTA9-uSPn",
        "outputId": "9881f516-9294-4a25-a686-b5fc774200a3"
      },
      "source": [
        "# print(loan.loc[loan['ApplicantIncome'] == 12876 ])\n",
        "loan[loan.ApplicantIncome>50000]"
      ],
      "execution_count": null,
      "outputs": [
        {
          "output_type": "execute_result",
          "data": {
            "text/html": [
              "<div>\n",
              "<style scoped>\n",
              "    .dataframe tbody tr th:only-of-type {\n",
              "        vertical-align: middle;\n",
              "    }\n",
              "\n",
              "    .dataframe tbody tr th {\n",
              "        vertical-align: top;\n",
              "    }\n",
              "\n",
              "    .dataframe thead th {\n",
              "        text-align: right;\n",
              "    }\n",
              "</style>\n",
              "<table border=\"1\" class=\"dataframe\">\n",
              "  <thead>\n",
              "    <tr style=\"text-align: right;\">\n",
              "      <th></th>\n",
              "      <th>Loan_ID</th>\n",
              "      <th>Gender</th>\n",
              "      <th>Married</th>\n",
              "      <th>Dependents</th>\n",
              "      <th>Education</th>\n",
              "      <th>Self_Employed</th>\n",
              "      <th>ApplicantIncome</th>\n",
              "      <th>CoapplicantIncome</th>\n",
              "      <th>LoanAmount</th>\n",
              "      <th>Loan_Amount_Term</th>\n",
              "      <th>Credit_History</th>\n",
              "      <th>Property_Area</th>\n",
              "      <th>Loan_Status</th>\n",
              "    </tr>\n",
              "  </thead>\n",
              "  <tbody>\n",
              "    <tr>\n",
              "      <th>171</th>\n",
              "      <td>LP001585</td>\n",
              "      <td>1</td>\n",
              "      <td>Yes</td>\n",
              "      <td>3</td>\n",
              "      <td>Graduate</td>\n",
              "      <td>No</td>\n",
              "      <td>51763</td>\n",
              "      <td>0.0</td>\n",
              "      <td>700.0</td>\n",
              "      <td>300</td>\n",
              "      <td>1</td>\n",
              "      <td>Urban</td>\n",
              "      <td>Y</td>\n",
              "    </tr>\n",
              "    <tr>\n",
              "      <th>333</th>\n",
              "      <td>LP002101</td>\n",
              "      <td>1</td>\n",
              "      <td>Yes</td>\n",
              "      <td>0</td>\n",
              "      <td>Graduate</td>\n",
              "      <td>Yes</td>\n",
              "      <td>63337</td>\n",
              "      <td>0.0</td>\n",
              "      <td>490.0</td>\n",
              "      <td>180</td>\n",
              "      <td>1</td>\n",
              "      <td>Urban</td>\n",
              "      <td>Y</td>\n",
              "    </tr>\n",
              "    <tr>\n",
              "      <th>409</th>\n",
              "      <td>LP002317</td>\n",
              "      <td>1</td>\n",
              "      <td>Yes</td>\n",
              "      <td>3</td>\n",
              "      <td>Graduate</td>\n",
              "      <td>No</td>\n",
              "      <td>81000</td>\n",
              "      <td>0.0</td>\n",
              "      <td>360.0</td>\n",
              "      <td>360</td>\n",
              "      <td>0</td>\n",
              "      <td>Rural</td>\n",
              "      <td>N</td>\n",
              "    </tr>\n",
              "  </tbody>\n",
              "</table>\n",
              "</div>"
            ],
            "text/plain": [
              "      Loan_ID  Gender Married  ...  Credit_History Property_Area Loan_Status\n",
              "171  LP001585       1     Yes  ...               1         Urban           Y\n",
              "333  LP002101       1     Yes  ...               1         Urban           Y\n",
              "409  LP002317       1     Yes  ...               0         Rural           N\n",
              "\n",
              "[3 rows x 13 columns]"
            ]
          },
          "metadata": {
            "tags": []
          },
          "execution_count": 55
        }
      ]
    },
    {
      "cell_type": "code",
      "metadata": {
        "colab": {
          "base_uri": "https://localhost:8080/",
          "height": 282
        },
        "id": "dwCjxgWKOW_i",
        "outputId": "9dc080b9-3690-4d7e-81a3-003aead06512"
      },
      "source": [
        "loan.describe()"
      ],
      "execution_count": null,
      "outputs": [
        {
          "output_type": "execute_result",
          "data": {
            "text/html": [
              "<div>\n",
              "<style scoped>\n",
              "    .dataframe tbody tr th:only-of-type {\n",
              "        vertical-align: middle;\n",
              "    }\n",
              "\n",
              "    .dataframe tbody tr th {\n",
              "        vertical-align: top;\n",
              "    }\n",
              "\n",
              "    .dataframe thead th {\n",
              "        text-align: right;\n",
              "    }\n",
              "</style>\n",
              "<table border=\"1\" class=\"dataframe\">\n",
              "  <thead>\n",
              "    <tr style=\"text-align: right;\">\n",
              "      <th></th>\n",
              "      <th>Gender</th>\n",
              "      <th>Dependents</th>\n",
              "      <th>ApplicantIncome</th>\n",
              "      <th>CoapplicantIncome</th>\n",
              "      <th>LoanAmount</th>\n",
              "      <th>Loan_Amount_Term</th>\n",
              "      <th>Credit_History</th>\n",
              "    </tr>\n",
              "  </thead>\n",
              "  <tbody>\n",
              "    <tr>\n",
              "      <th>count</th>\n",
              "      <td>614.000000</td>\n",
              "      <td>614.000000</td>\n",
              "      <td>614.000000</td>\n",
              "      <td>614.000000</td>\n",
              "      <td>614.000000</td>\n",
              "      <td>614.000000</td>\n",
              "      <td>614.000000</td>\n",
              "    </tr>\n",
              "    <tr>\n",
              "      <th>mean</th>\n",
              "      <td>0.817590</td>\n",
              "      <td>0.757329</td>\n",
              "      <td>5403.459283</td>\n",
              "      <td>1621.245798</td>\n",
              "      <td>146.460277</td>\n",
              "      <td>344.618893</td>\n",
              "      <td>0.855049</td>\n",
              "    </tr>\n",
              "    <tr>\n",
              "      <th>std</th>\n",
              "      <td>0.386497</td>\n",
              "      <td>1.006376</td>\n",
              "      <td>6109.041673</td>\n",
              "      <td>2926.248369</td>\n",
              "      <td>84.040403</td>\n",
              "      <td>59.027530</td>\n",
              "      <td>0.352339</td>\n",
              "    </tr>\n",
              "    <tr>\n",
              "      <th>min</th>\n",
              "      <td>0.000000</td>\n",
              "      <td>0.000000</td>\n",
              "      <td>150.000000</td>\n",
              "      <td>0.000000</td>\n",
              "      <td>9.000000</td>\n",
              "      <td>84.000000</td>\n",
              "      <td>0.000000</td>\n",
              "    </tr>\n",
              "    <tr>\n",
              "      <th>25%</th>\n",
              "      <td>1.000000</td>\n",
              "      <td>0.000000</td>\n",
              "      <td>2877.500000</td>\n",
              "      <td>0.000000</td>\n",
              "      <td>100.250000</td>\n",
              "      <td>360.000000</td>\n",
              "      <td>1.000000</td>\n",
              "    </tr>\n",
              "    <tr>\n",
              "      <th>50%</th>\n",
              "      <td>1.000000</td>\n",
              "      <td>0.000000</td>\n",
              "      <td>3812.500000</td>\n",
              "      <td>1188.500000</td>\n",
              "      <td>129.000000</td>\n",
              "      <td>360.000000</td>\n",
              "      <td>1.000000</td>\n",
              "    </tr>\n",
              "    <tr>\n",
              "      <th>75%</th>\n",
              "      <td>1.000000</td>\n",
              "      <td>1.000000</td>\n",
              "      <td>5795.000000</td>\n",
              "      <td>2297.250000</td>\n",
              "      <td>164.750000</td>\n",
              "      <td>360.000000</td>\n",
              "      <td>1.000000</td>\n",
              "    </tr>\n",
              "    <tr>\n",
              "      <th>max</th>\n",
              "      <td>1.000000</td>\n",
              "      <td>3.000000</td>\n",
              "      <td>81000.000000</td>\n",
              "      <td>41667.000000</td>\n",
              "      <td>700.000000</td>\n",
              "      <td>480.000000</td>\n",
              "      <td>1.000000</td>\n",
              "    </tr>\n",
              "  </tbody>\n",
              "</table>\n",
              "</div>"
            ],
            "text/plain": [
              "           Gender  Dependents  ...  Loan_Amount_Term  Credit_History\n",
              "count  614.000000  614.000000  ...        614.000000      614.000000\n",
              "mean     0.817590    0.757329  ...        344.618893        0.855049\n",
              "std      0.386497    1.006376  ...         59.027530        0.352339\n",
              "min      0.000000    0.000000  ...         84.000000        0.000000\n",
              "25%      1.000000    0.000000  ...        360.000000        1.000000\n",
              "50%      1.000000    0.000000  ...        360.000000        1.000000\n",
              "75%      1.000000    1.000000  ...        360.000000        1.000000\n",
              "max      1.000000    3.000000  ...        480.000000        1.000000\n",
              "\n",
              "[8 rows x 7 columns]"
            ]
          },
          "metadata": {
            "tags": []
          },
          "execution_count": 56
        }
      ]
    },
    {
      "cell_type": "code",
      "metadata": {
        "colab": {
          "base_uri": "https://localhost:8080/",
          "height": 76
        },
        "id": "Vs9f5FAsQUi4",
        "outputId": "ed6c597a-fe7b-428b-8bfd-7a80ae1284f4"
      },
      "source": [
        "loan[loan.ApplicantIncome==81000]"
      ],
      "execution_count": null,
      "outputs": [
        {
          "output_type": "execute_result",
          "data": {
            "text/html": [
              "<div>\n",
              "<style scoped>\n",
              "    .dataframe tbody tr th:only-of-type {\n",
              "        vertical-align: middle;\n",
              "    }\n",
              "\n",
              "    .dataframe tbody tr th {\n",
              "        vertical-align: top;\n",
              "    }\n",
              "\n",
              "    .dataframe thead th {\n",
              "        text-align: right;\n",
              "    }\n",
              "</style>\n",
              "<table border=\"1\" class=\"dataframe\">\n",
              "  <thead>\n",
              "    <tr style=\"text-align: right;\">\n",
              "      <th></th>\n",
              "      <th>Loan_ID</th>\n",
              "      <th>Gender</th>\n",
              "      <th>Married</th>\n",
              "      <th>Dependents</th>\n",
              "      <th>Education</th>\n",
              "      <th>Self_Employed</th>\n",
              "      <th>ApplicantIncome</th>\n",
              "      <th>CoapplicantIncome</th>\n",
              "      <th>LoanAmount</th>\n",
              "      <th>Loan_Amount_Term</th>\n",
              "      <th>Credit_History</th>\n",
              "      <th>Property_Area</th>\n",
              "      <th>Loan_Status</th>\n",
              "    </tr>\n",
              "  </thead>\n",
              "  <tbody>\n",
              "    <tr>\n",
              "      <th>409</th>\n",
              "      <td>LP002317</td>\n",
              "      <td>1</td>\n",
              "      <td>Yes</td>\n",
              "      <td>3</td>\n",
              "      <td>Graduate</td>\n",
              "      <td>No</td>\n",
              "      <td>81000</td>\n",
              "      <td>0.0</td>\n",
              "      <td>360.0</td>\n",
              "      <td>360</td>\n",
              "      <td>0</td>\n",
              "      <td>Rural</td>\n",
              "      <td>N</td>\n",
              "    </tr>\n",
              "  </tbody>\n",
              "</table>\n",
              "</div>"
            ],
            "text/plain": [
              "      Loan_ID  Gender Married  ...  Credit_History Property_Area Loan_Status\n",
              "409  LP002317       1     Yes  ...               0         Rural           N\n",
              "\n",
              "[1 rows x 13 columns]"
            ]
          },
          "metadata": {
            "tags": []
          },
          "execution_count": 57
        }
      ]
    },
    {
      "cell_type": "markdown",
      "metadata": {
        "id": "-H42j3OuQeYp"
      },
      "source": [
        "* i think that 81000 for income is a mistake, and loan_status is not attributed, in my opinion by mistake they add **0**"
      ]
    },
    {
      "cell_type": "code",
      "metadata": {
        "id": "J7DBFONZQz0y"
      },
      "source": [
        "# i'm going to ajust this outlier without removing it, from 81000 to 8100\n",
        "loan['ApplicantIncome'] = np.where((loan.ApplicantIncome == 81000), 8100, loan.ApplicantIncome)\n"
      ],
      "execution_count": null,
      "outputs": []
    },
    {
      "cell_type": "code",
      "metadata": {
        "colab": {
          "base_uri": "https://localhost:8080/",
          "height": 76
        },
        "id": "HR9p5DfmRXZr",
        "outputId": "6f8696c9-ce56-4b74-9b66-9f77b8e09e66"
      },
      "source": [
        "loan[loan.ApplicantIncome==8100]"
      ],
      "execution_count": null,
      "outputs": [
        {
          "output_type": "execute_result",
          "data": {
            "text/html": [
              "<div>\n",
              "<style scoped>\n",
              "    .dataframe tbody tr th:only-of-type {\n",
              "        vertical-align: middle;\n",
              "    }\n",
              "\n",
              "    .dataframe tbody tr th {\n",
              "        vertical-align: top;\n",
              "    }\n",
              "\n",
              "    .dataframe thead th {\n",
              "        text-align: right;\n",
              "    }\n",
              "</style>\n",
              "<table border=\"1\" class=\"dataframe\">\n",
              "  <thead>\n",
              "    <tr style=\"text-align: right;\">\n",
              "      <th></th>\n",
              "      <th>Loan_ID</th>\n",
              "      <th>Gender</th>\n",
              "      <th>Married</th>\n",
              "      <th>Dependents</th>\n",
              "      <th>Education</th>\n",
              "      <th>Self_Employed</th>\n",
              "      <th>ApplicantIncome</th>\n",
              "      <th>CoapplicantIncome</th>\n",
              "      <th>LoanAmount</th>\n",
              "      <th>Loan_Amount_Term</th>\n",
              "      <th>Credit_History</th>\n",
              "      <th>Property_Area</th>\n",
              "      <th>Loan_Status</th>\n",
              "    </tr>\n",
              "  </thead>\n",
              "  <tbody>\n",
              "    <tr>\n",
              "      <th>409</th>\n",
              "      <td>LP002317</td>\n",
              "      <td>1</td>\n",
              "      <td>Yes</td>\n",
              "      <td>3</td>\n",
              "      <td>Graduate</td>\n",
              "      <td>No</td>\n",
              "      <td>8100</td>\n",
              "      <td>0.0</td>\n",
              "      <td>360.0</td>\n",
              "      <td>360</td>\n",
              "      <td>0</td>\n",
              "      <td>Rural</td>\n",
              "      <td>N</td>\n",
              "    </tr>\n",
              "  </tbody>\n",
              "</table>\n",
              "</div>"
            ],
            "text/plain": [
              "      Loan_ID  Gender Married  ...  Credit_History Property_Area Loan_Status\n",
              "409  LP002317       1     Yes  ...               0         Rural           N\n",
              "\n",
              "[1 rows x 13 columns]"
            ]
          },
          "metadata": {
            "tags": []
          },
          "execution_count": 59
        }
      ]
    },
    {
      "cell_type": "code",
      "metadata": {
        "colab": {
          "base_uri": "https://localhost:8080/",
          "height": 282
        },
        "id": "PPIHJq7eCxQB",
        "outputId": "483bc5a7-773f-4fa8-fb2f-7424b527cfd0"
      },
      "source": [
        "loan.describe()"
      ],
      "execution_count": null,
      "outputs": [
        {
          "output_type": "execute_result",
          "data": {
            "text/html": [
              "<div>\n",
              "<style scoped>\n",
              "    .dataframe tbody tr th:only-of-type {\n",
              "        vertical-align: middle;\n",
              "    }\n",
              "\n",
              "    .dataframe tbody tr th {\n",
              "        vertical-align: top;\n",
              "    }\n",
              "\n",
              "    .dataframe thead th {\n",
              "        text-align: right;\n",
              "    }\n",
              "</style>\n",
              "<table border=\"1\" class=\"dataframe\">\n",
              "  <thead>\n",
              "    <tr style=\"text-align: right;\">\n",
              "      <th></th>\n",
              "      <th>Gender</th>\n",
              "      <th>Dependents</th>\n",
              "      <th>ApplicantIncome</th>\n",
              "      <th>CoapplicantIncome</th>\n",
              "      <th>LoanAmount</th>\n",
              "      <th>Loan_Amount_Term</th>\n",
              "      <th>Credit_History</th>\n",
              "    </tr>\n",
              "  </thead>\n",
              "  <tbody>\n",
              "    <tr>\n",
              "      <th>count</th>\n",
              "      <td>614.000000</td>\n",
              "      <td>614.000000</td>\n",
              "      <td>614.000000</td>\n",
              "      <td>614.000000</td>\n",
              "      <td>614.000000</td>\n",
              "      <td>614.000000</td>\n",
              "      <td>614.000000</td>\n",
              "    </tr>\n",
              "    <tr>\n",
              "      <th>mean</th>\n",
              "      <td>0.817590</td>\n",
              "      <td>0.757329</td>\n",
              "      <td>5284.729642</td>\n",
              "      <td>1621.245798</td>\n",
              "      <td>146.460277</td>\n",
              "      <td>344.618893</td>\n",
              "      <td>0.855049</td>\n",
              "    </tr>\n",
              "    <tr>\n",
              "      <th>std</th>\n",
              "      <td>0.386497</td>\n",
              "      <td>1.006376</td>\n",
              "      <td>5291.067628</td>\n",
              "      <td>2926.248369</td>\n",
              "      <td>84.040403</td>\n",
              "      <td>59.027530</td>\n",
              "      <td>0.352339</td>\n",
              "    </tr>\n",
              "    <tr>\n",
              "      <th>min</th>\n",
              "      <td>0.000000</td>\n",
              "      <td>0.000000</td>\n",
              "      <td>150.000000</td>\n",
              "      <td>0.000000</td>\n",
              "      <td>9.000000</td>\n",
              "      <td>84.000000</td>\n",
              "      <td>0.000000</td>\n",
              "    </tr>\n",
              "    <tr>\n",
              "      <th>25%</th>\n",
              "      <td>1.000000</td>\n",
              "      <td>0.000000</td>\n",
              "      <td>2877.500000</td>\n",
              "      <td>0.000000</td>\n",
              "      <td>100.250000</td>\n",
              "      <td>360.000000</td>\n",
              "      <td>1.000000</td>\n",
              "    </tr>\n",
              "    <tr>\n",
              "      <th>50%</th>\n",
              "      <td>1.000000</td>\n",
              "      <td>0.000000</td>\n",
              "      <td>3812.500000</td>\n",
              "      <td>1188.500000</td>\n",
              "      <td>129.000000</td>\n",
              "      <td>360.000000</td>\n",
              "      <td>1.000000</td>\n",
              "    </tr>\n",
              "    <tr>\n",
              "      <th>75%</th>\n",
              "      <td>1.000000</td>\n",
              "      <td>1.000000</td>\n",
              "      <td>5795.000000</td>\n",
              "      <td>2297.250000</td>\n",
              "      <td>164.750000</td>\n",
              "      <td>360.000000</td>\n",
              "      <td>1.000000</td>\n",
              "    </tr>\n",
              "    <tr>\n",
              "      <th>max</th>\n",
              "      <td>1.000000</td>\n",
              "      <td>3.000000</td>\n",
              "      <td>63337.000000</td>\n",
              "      <td>41667.000000</td>\n",
              "      <td>700.000000</td>\n",
              "      <td>480.000000</td>\n",
              "      <td>1.000000</td>\n",
              "    </tr>\n",
              "  </tbody>\n",
              "</table>\n",
              "</div>"
            ],
            "text/plain": [
              "           Gender  Dependents  ...  Loan_Amount_Term  Credit_History\n",
              "count  614.000000  614.000000  ...        614.000000      614.000000\n",
              "mean     0.817590    0.757329  ...        344.618893        0.855049\n",
              "std      0.386497    1.006376  ...         59.027530        0.352339\n",
              "min      0.000000    0.000000  ...         84.000000        0.000000\n",
              "25%      1.000000    0.000000  ...        360.000000        1.000000\n",
              "50%      1.000000    0.000000  ...        360.000000        1.000000\n",
              "75%      1.000000    1.000000  ...        360.000000        1.000000\n",
              "max      1.000000    3.000000  ...        480.000000        1.000000\n",
              "\n",
              "[8 rows x 7 columns]"
            ]
          },
          "metadata": {
            "tags": []
          },
          "execution_count": 60
        }
      ]
    },
    {
      "cell_type": "code",
      "metadata": {
        "colab": {
          "base_uri": "https://localhost:8080/"
        },
        "id": "JDp0Sxfj6zpW",
        "outputId": "3733609b-43a9-4db7-86d9-d9ef95604bae"
      },
      "source": [
        "loan[\"Loan_Status\"].value_counts(normalize=True)*100"
      ],
      "execution_count": null,
      "outputs": [
        {
          "output_type": "execute_result",
          "data": {
            "text/plain": [
              "Y    68.729642\n",
              "N    31.270358\n",
              "Name: Loan_Status, dtype: float64"
            ]
          },
          "metadata": {
            "tags": []
          },
          "execution_count": 61
        }
      ]
    },
    {
      "cell_type": "code",
      "metadata": {
        "colab": {
          "base_uri": "https://localhost:8080/",
          "height": 298
        },
        "id": "QeLaFm_U8hc9",
        "outputId": "144d8139-5a9b-4c5e-b479-823fc712ead2"
      },
      "source": [
        "sns.countplot(x = 'Loan_Status', data = loan)"
      ],
      "execution_count": null,
      "outputs": [
        {
          "output_type": "execute_result",
          "data": {
            "text/plain": [
              "<matplotlib.axes._subplots.AxesSubplot at 0x7f8571a49950>"
            ]
          },
          "metadata": {
            "tags": []
          },
          "execution_count": 62
        },
        {
          "output_type": "display_data",
          "data": {
            "image/png": "[encoded data removed]",
            "text/plain": [
              "<Figure size 432x288 with 1 Axes>"
            ]
          },
          "metadata": {
            "tags": [],
            "needs_background": "light"
          }
        }
      ]
    },
    {
      "cell_type": "markdown",
      "metadata": {
        "id": "nLoyh8mN65BP"
      },
      "source": [
        "###Around $69$% applicant from 614 was approved. The mojority of loan are accepted."
      ]
    },
    {
      "cell_type": "markdown",
      "metadata": {
        "id": "AS00oYX28swG"
      },
      "source": [
        "###Trying bivariate analyses"
      ]
    },
    {
      "cell_type": "code",
      "metadata": {
        "colab": {
          "base_uri": "https://localhost:8080/",
          "height": 878
        },
        "id": "mMOX6JVACMoZ",
        "outputId": "cd15b6d0-6376-43bd-f82f-c69771495cca"
      },
      "source": [
        "categorical_col= ['Gender', 'Married', 'Dependents', 'Education', 'Self_Employed', 'Property_Area','Credit_History','Loan_Amount_Term']\n",
        "fig, axes = plt.subplots(4,2,figsize=(15,15))\n",
        "for i, cat_col in enumerate(categorical_col):\n",
        "    row,col = i//2,i%2\n",
        "    sns.countplot(x= cat_col,\n",
        "                  data= loan,\n",
        "                  hue= 'Loan_Status',\n",
        "                  ax= axes[row,col], \n",
        "                  palette=\"cool\")\n",
        "\n",
        "\n",
        "plt.subplots_adjust(hspace=1)"
      ],
      "execution_count": null,
      "outputs": [
        {
          "output_type": "display_data",
          "data": {
            "image/png": "[encoded data removed]",
            "text/plain": [
              "<Figure size 1080x1080 with 8 Axes>"
            ]
          },
          "metadata": {
            "tags": [],
            "needs_background": "light"
          }
        }
      ]
    },
    {
      "cell_type": "code",
      "metadata": {
        "colab": {
          "base_uri": "https://localhost:8080/",
          "height": 280
        },
        "id": "KOV2d9npCSJk",
        "outputId": "28f01a7f-c9c9-4e6e-ecd5-d5a7bcced9d2"
      },
      "source": [
        "numerical_col = ['ApplicantIncome', 'CoapplicantIncome', 'LoanAmount']\n",
        "fig, axes = plt.subplots(1,3, figsize= (19,4) )\n",
        "for j, num_col in enumerate(numerical_col):\n",
        "    sns.boxplot(y= num_col,\n",
        "                data= loan,\n",
        "                x= 'Loan_Status',\n",
        "                ax= axes[j],\n",
        "                palette=\"PiYG\")\n",
        "\n",
        "\n",
        "plt.subplots_adjust(hspace=1)"
      ],
      "execution_count": null,
      "outputs": [
        {
          "output_type": "display_data",
          "data": {
            "image/png": "[encoded data removed]",
            "text/plain": [
              "<Figure size 1368x288 with 3 Axes>"
            ]
          },
          "metadata": {
            "tags": [],
            "needs_background": "light"
          }
        }
      ]
    },
    {
      "cell_type": "markdown",
      "metadata": {
        "id": "EEmfyCyVGE9n"
      },
      "source": [
        "##Comments:\n",
        "##- The mojority of the applicants have been granted loan, well:\n",
        "###- if the applicant is **male**, **married**, with few or **no dependents** at all, educated **has a degree**, **an employee**, has **a semi-urbain property** and with **no depts**, than he has ***higher propotion of loan approval***\n",
        "###-For the incomes and the loan amount, there is no significant relation to Loan approval status."
      ]
    },
    {
      "cell_type": "code",
      "metadata": {
        "id": "ws_D1GGqQeBu"
      },
      "source": [
        "# try to convert the continuous values for the incomes attributes into ordinal bins to well visualize\n",
        "#list of binned numerical feature vectors \n",
        "binned_nums = []\n",
        "\n",
        "# To get alphabetical label\n",
        "from string import ascii_uppercase                                  \n",
        "#0# ApplicantIncome \n",
        "AIbins = [0, 1000, 2000, 3000, 4000, 6000, 8000, 15000, 20000, 40000, 63337]\n",
        "binned_nums.append(pd.cut(loan['ApplicantIncome'], bins=AIbins))\n",
        "\n",
        "#1# CoapplicantIncome \n",
        "CIbins = [0, 500, 1000, 2000, 3000, 4000, 5000, 8000, 12000, 20000, 50000]\n",
        "binned_nums.append(pd.cut(loan['CoapplicantIncome'], bins=CIbins))\n",
        "\n",
        "#2# LoanAmount \n",
        "LAbins = [0, 50, 100, 200, 500, 1000]\n",
        "LAlabels = ['very small loan', 'small loan', 'medium loan',\n",
        "            'large loan', 'big loan']\n",
        "binned_nums.append(pd.cut(loan['LoanAmount'], bins=LAbins, labels=LAlabels))\n",
        "\n",
        "#3# Loan_Amount_Term \n",
        "LATbins = [0, 84, 360, 480]\n",
        "LATlabels = ['short_term', 'medium_term', 'long_term']\n",
        "binned_nums.append(pd.cut(loan['Loan_Amount_Term'], bins=LATbins,\n",
        "                          labels=LATlabels))\n"
      ],
      "execution_count": null,
      "outputs": []
    },
    {
      "cell_type": "code",
      "metadata": {
        "colab": {
          "base_uri": "https://localhost:8080/",
          "height": 1000
        },
        "id": "cHYUFll8BAqh",
        "outputId": "62f1ca2e-d277-472d-b3d8-88b74391f329"
      },
      "source": [
        "fig, axes = plt.subplots(nrows=2, ncols=2)\n",
        "fig.set_figheight(20)\n",
        "fig.set_figwidth(25)\n",
        "\n",
        "i=0\n",
        "\n",
        "for j,x in enumerate(binned_nums):\n",
        "    \n",
        "    if j>1:\n",
        "        i=1; j-=2\n",
        "    _crs_tab = pd.crosstab(x.dropna(), loan['Loan_Status'])\n",
        "    _crs_tab.div(_crs_tab.sum(1).astype(float), axis=0).plot(kind=\"bar\",\n",
        "                                                             stacked=True,\n",
        "                                                             ax=axes[i,j])\n",
        "\n",
        "plt.suptitle(\"Numerical Features (Binned)\", fontsize=20)"
      ],
      "execution_count": null,
      "outputs": [
        {
          "output_type": "execute_result",
          "data": {
            "text/plain": [
              "Text(0.5, 0.98, 'Numerical Features (Binned)')"
            ]
          },
          "metadata": {
            "tags": []
          },
          "execution_count": 66
        },
        {
          "output_type": "display_data",
          "data": {
            "image/png": "[encoded data removed]",
            "text/plain": [
              "<Figure size 1800x1440 with 4 Axes>"
            ]
          },
          "metadata": {
            "tags": [],
            "needs_background": "light"
          }
        }
      ]
    },
    {
      "cell_type": "markdown",
      "metadata": {
        "id": "h_D93jamED8i"
      },
      "source": [
        "* There is no relation between applicant income & loan status, however there is a relation between co-applicant income and the loan status, wich is very loaw  income is approved and it doesn't make sense, \n",
        "* the reason behind this is that the majority of applicant, have not co-applicants.\n",
        "* i'll try to combine the two features **Applicant Income** and **Coapplicant Income**, by create a new feature 'Sum_Incomes', and see:"
      ]
    },
    {
      "cell_type": "code",
      "metadata": {
        "colab": {
          "base_uri": "https://localhost:8080/",
          "height": 473
        },
        "id": "KP8KflmkFTqU",
        "outputId": "ac888188-34ce-4ed1-b141-ba7f880017ac"
      },
      "source": [
        "Sum_Incomes = loan['CoapplicantIncome'] + loan['ApplicantIncome']\n",
        "\n",
        "sumbins = [0, 2000, 4000, 8000, 16000, 30000, 70000]\n",
        "sum_trans = pd.cut(Sum_Incomes, bins= sumbins)\n",
        "_crs_tab = pd.crosstab(sum_trans.dropna(), loan['Loan_Status'])\n",
        "_crs_tab.div(_crs_tab.sum(1).astype(float), axis=0).plot(kind=\"bar\",\n",
        "                                                         stacked=True, figsize= (10,6), xlabel=\"Total Incomes\")"
      ],
      "execution_count": null,
      "outputs": [
        {
          "output_type": "execute_result",
          "data": {
            "text/plain": [
              "<matplotlib.axes._subplots.AxesSubplot at 0x7f85717377d0>"
            ]
          },
          "metadata": {
            "tags": []
          },
          "execution_count": 67
        },
        {
          "output_type": "display_data",
          "data": {
            "image/png": "[encoded data removed]",
            "text/plain": [
              "<Figure size 720x432 with 1 Axes>"
            ]
          },
          "metadata": {
            "tags": [],
            "needs_background": "light"
          }
        }
      ]
    },
    {
      "cell_type": "markdown",
      "metadata": {
        "id": "wEhbtMKaIlTq"
      },
      "source": [
        "* here it's clear, applicant with **low incomes**, has less chance to get the loan approval. between 2000 & 16000 income increases the chances of getting the loan, and between incomes > 16000 also most of them, it's quitly not true but maybe because they are few of them."
      ]
    },
    {
      "cell_type": "code",
      "metadata": {
        "colab": {
          "base_uri": "https://localhost:8080/"
        },
        "id": "L4Iv8q1gOOA6",
        "outputId": "ed0d9446-e747-4378-ca4a-f375102f5bc6"
      },
      "source": [
        "loan.info()"
      ],
      "execution_count": null,
      "outputs": [
        {
          "output_type": "stream",
          "text": [
            "<class 'pandas.core.frame.DataFrame'>\n",
            "RangeIndex: 614 entries, 0 to 613\n",
            "Data columns (total 13 columns):\n",
            " #   Column             Non-Null Count  Dtype  \n",
            "---  ------             --------------  -----  \n",
            " 0   Loan_ID            614 non-null    object \n",
            " 1   Gender             614 non-null    int64  \n",
            " 2   Married            614 non-null    object \n",
            " 3   Dependents         614 non-null    int64  \n",
            " 4   Education          614 non-null    object \n",
            " 5   Self_Employed      614 non-null    object \n",
            " 6   ApplicantIncome    614 non-null    int64  \n",
            " 7   CoapplicantIncome  614 non-null    float64\n",
            " 8   LoanAmount         614 non-null    float64\n",
            " 9   Loan_Amount_Term   614 non-null    int64  \n",
            " 10  Credit_History     614 non-null    int64  \n",
            " 11  Property_Area      614 non-null    object \n",
            " 12  Loan_Status        614 non-null    object \n",
            "dtypes: float64(2), int64(5), object(6)\n",
            "memory usage: 62.5+ KB\n"
          ],
          "name": "stdout"
        }
      ]
    },
    {
      "cell_type": "markdown",
      "metadata": {
        "id": "-C0Ww97VHF_S"
      },
      "source": [
        "## Replacing the categorical values by numerical"
      ]
    },
    {
      "cell_type": "code",
      "metadata": {
        "id": "OuyEE_SKJNN6"
      },
      "source": [
        "\n",
        "loan['Married'] = loan['Married'].apply(lambda x : {'Yes' : 1, 'No' : 0}[x])\n",
        "loan['Education'] = loan['Education'].apply(lambda x : {'Graduate' : 1, 'Not Graduate' : 0}[x])\n",
        "loan['Self_Employed'] = loan['Self_Employed'].apply(lambda x : {'Yes' : 1, 'No' : 0}[x])\n",
        "loan['Property_Area'] = loan['Property_Area'].apply(lambda x : {'Semiurban': 2, 'Urban' : 1, 'Rural' : 0}[x])\n",
        "loan['Loan_Status'] = loan['Loan_Status'].apply(lambda x : {'N' : 0, 'Y' : 1}[x])\n"
      ],
      "execution_count": null,
      "outputs": []
    },
    {
      "cell_type": "code",
      "metadata": {
        "colab": {
          "base_uri": "https://localhost:8080/"
        },
        "id": "c7Ge_VJRJeD2",
        "outputId": "6a4b9d57-444b-459d-b498-bf933e27180f"
      },
      "source": [
        "loan.info()"
      ],
      "execution_count": null,
      "outputs": [
        {
          "output_type": "stream",
          "text": [
            "<class 'pandas.core.frame.DataFrame'>\n",
            "RangeIndex: 614 entries, 0 to 613\n",
            "Data columns (total 13 columns):\n",
            " #   Column             Non-Null Count  Dtype  \n",
            "---  ------             --------------  -----  \n",
            " 0   Loan_ID            614 non-null    object \n",
            " 1   Gender             614 non-null    int64  \n",
            " 2   Married            614 non-null    int64  \n",
            " 3   Dependents         614 non-null    int64  \n",
            " 4   Education          614 non-null    int64  \n",
            " 5   Self_Employed      614 non-null    int64  \n",
            " 6   ApplicantIncome    614 non-null    int64  \n",
            " 7   CoapplicantIncome  614 non-null    float64\n",
            " 8   LoanAmount         614 non-null    float64\n",
            " 9   Loan_Amount_Term   614 non-null    int64  \n",
            " 10  Credit_History     614 non-null    int64  \n",
            " 11  Property_Area      614 non-null    int64  \n",
            " 12  Loan_Status        614 non-null    int64  \n",
            "dtypes: float64(2), int64(10), object(1)\n",
            "memory usage: 62.5+ KB\n"
          ],
          "name": "stdout"
        }
      ]
    },
    {
      "cell_type": "markdown",
      "metadata": {
        "id": "7Dy6-iLtJ6Bz"
      },
      "source": [
        "## Correlation between features:"
      ]
    },
    {
      "cell_type": "code",
      "metadata": {
        "colab": {
          "base_uri": "https://localhost:8080/",
          "height": 629
        },
        "id": "fPC8ixWor2fm",
        "outputId": "7740106a-b141-407c-8280-9a0bbe4fd7b8"
      },
      "source": [
        "def plot_correlation_map( df ):\n",
        "    corr = df.corr()\n",
        "    s , ax = plt.subplots( figsize =( 11 , 10 ) )\n",
        "\n",
        "    cmap = sns.diverging_palette( 220 , 10 , as_cmap = True )\n",
        "\n",
        "    s = sns.heatmap(corr, cmap = 'GnBu',square=True, \n",
        "                    cbar_kws={ 'shrink' : .9 }, \n",
        "                    ax=ax, \n",
        "                    annot = True, \n",
        "                    annot_kws = { 'fontsize' : 12 } )\n",
        "plot_correlation_map(loan)"
      ],
      "execution_count": null,
      "outputs": [
        {
          "output_type": "display_data",
          "data": {
            "image/png": "[encoded data removed]",
            "text/plain": [
              "<Figure size 792x720 with 2 Axes>"
            ]
          },
          "metadata": {
            "tags": [],
            "needs_background": "light"
          }
        }
      ]
    },
    {
      "cell_type": "markdown",
      "metadata": {
        "id": "JB4w-VI6tu4M"
      },
      "source": [
        "- **loan amount** and **applicant incom** are correlated to each other = 0.6\n",
        "- **credit history** and **loan status** are also correlated = 0.54"
      ]
    },
    {
      "cell_type": "markdown",
      "metadata": {
        "id": "hF1p_bEXw4Dm"
      },
      "source": [
        "### Drop the useless feature"
      ]
    },
    {
      "cell_type": "code",
      "metadata": {
        "id": "55f48dz6wSa4"
      },
      "source": [
        "loan.drop('Loan_ID', axis=1, inplace=True)"
      ],
      "execution_count": null,
      "outputs": []
    },
    {
      "cell_type": "code",
      "metadata": {
        "colab": {
          "base_uri": "https://localhost:8080/",
          "height": 194
        },
        "id": "jrnDwKEPxf98",
        "outputId": "36badf78-8bfc-4e52-ac34-065af47d1ce9"
      },
      "source": [
        "loan.head()"
      ],
      "execution_count": null,
      "outputs": [
        {
          "output_type": "execute_result",
          "data": {
            "text/html": [
              "<div>\n",
              "<style scoped>\n",
              "    .dataframe tbody tr th:only-of-type {\n",
              "        vertical-align: middle;\n",
              "    }\n",
              "\n",
              "    .dataframe tbody tr th {\n",
              "        vertical-align: top;\n",
              "    }\n",
              "\n",
              "    .dataframe thead th {\n",
              "        text-align: right;\n",
              "    }\n",
              "</style>\n",
              "<table border=\"1\" class=\"dataframe\">\n",
              "  <thead>\n",
              "    <tr style=\"text-align: right;\">\n",
              "      <th></th>\n",
              "      <th>Gender</th>\n",
              "      <th>Married</th>\n",
              "      <th>Dependents</th>\n",
              "      <th>Education</th>\n",
              "      <th>Self_Employed</th>\n",
              "      <th>ApplicantIncome</th>\n",
              "      <th>CoapplicantIncome</th>\n",
              "      <th>LoanAmount</th>\n",
              "      <th>Loan_Amount_Term</th>\n",
              "      <th>Credit_History</th>\n",
              "      <th>Property_Area</th>\n",
              "      <th>Loan_Status</th>\n",
              "    </tr>\n",
              "  </thead>\n",
              "  <tbody>\n",
              "    <tr>\n",
              "      <th>0</th>\n",
              "      <td>1</td>\n",
              "      <td>0</td>\n",
              "      <td>0</td>\n",
              "      <td>1</td>\n",
              "      <td>0</td>\n",
              "      <td>5849</td>\n",
              "      <td>0.0</td>\n",
              "      <td>151.22</td>\n",
              "      <td>360</td>\n",
              "      <td>1</td>\n",
              "      <td>1</td>\n",
              "      <td>1</td>\n",
              "    </tr>\n",
              "    <tr>\n",
              "      <th>1</th>\n",
              "      <td>1</td>\n",
              "      <td>1</td>\n",
              "      <td>1</td>\n",
              "      <td>1</td>\n",
              "      <td>0</td>\n",
              "      <td>4583</td>\n",
              "      <td>1508.0</td>\n",
              "      <td>128.00</td>\n",
              "      <td>360</td>\n",
              "      <td>1</td>\n",
              "      <td>0</td>\n",
              "      <td>0</td>\n",
              "    </tr>\n",
              "    <tr>\n",
              "      <th>2</th>\n",
              "      <td>1</td>\n",
              "      <td>1</td>\n",
              "      <td>0</td>\n",
              "      <td>1</td>\n",
              "      <td>1</td>\n",
              "      <td>3000</td>\n",
              "      <td>0.0</td>\n",
              "      <td>66.00</td>\n",
              "      <td>360</td>\n",
              "      <td>1</td>\n",
              "      <td>1</td>\n",
              "      <td>1</td>\n",
              "    </tr>\n",
              "    <tr>\n",
              "      <th>3</th>\n",
              "      <td>1</td>\n",
              "      <td>1</td>\n",
              "      <td>0</td>\n",
              "      <td>0</td>\n",
              "      <td>0</td>\n",
              "      <td>2583</td>\n",
              "      <td>2358.0</td>\n",
              "      <td>120.00</td>\n",
              "      <td>360</td>\n",
              "      <td>1</td>\n",
              "      <td>1</td>\n",
              "      <td>1</td>\n",
              "    </tr>\n",
              "    <tr>\n",
              "      <th>4</th>\n",
              "      <td>1</td>\n",
              "      <td>0</td>\n",
              "      <td>0</td>\n",
              "      <td>1</td>\n",
              "      <td>0</td>\n",
              "      <td>6000</td>\n",
              "      <td>0.0</td>\n",
              "      <td>141.00</td>\n",
              "      <td>360</td>\n",
              "      <td>1</td>\n",
              "      <td>1</td>\n",
              "      <td>1</td>\n",
              "    </tr>\n",
              "  </tbody>\n",
              "</table>\n",
              "</div>"
            ],
            "text/plain": [
              "   Gender  Married  Dependents  ...  Credit_History  Property_Area  Loan_Status\n",
              "0       1        0           0  ...               1              1            1\n",
              "1       1        1           1  ...               1              0            0\n",
              "2       1        1           0  ...               1              1            1\n",
              "3       1        1           0  ...               1              1            1\n",
              "4       1        0           0  ...               1              1            1\n",
              "\n",
              "[5 rows x 12 columns]"
            ]
          },
          "metadata": {
            "tags": []
          },
          "execution_count": 73
        }
      ]
    },
    {
      "cell_type": "markdown",
      "metadata": {
        "id": "kaeFR1gIxjfO"
      },
      "source": [
        "####the dataset is ready now for modeling:\n",
        "* i am going tu use all features, i think that they are all important"
      ]
    },
    {
      "cell_type": "markdown",
      "metadata": {
        "id": "tseOSA-Kx-pP"
      },
      "source": [
        "## Split the data to *y* (the target) and *x* (all other features) "
      ]
    },
    {
      "cell_type": "code",
      "metadata": {
        "id": "UYvMWWnuyKFn"
      },
      "source": [
        "# feature extraction\n",
        "x = loan.iloc[:, 0:-1].values         # (:) = all rows, and (0:-1) = all columns exluding the last one \"loan_Status\" the target\n",
        "y = loan.iloc[:, -1].values           # all rows & i pick just the last column loan status our target"
      ],
      "execution_count": null,
      "outputs": []
    },
    {
      "cell_type": "code",
      "metadata": {
        "id": "VqHtFcDqzGnP"
      },
      "source": [
        "# # splitting data\n",
        "x_train, x_test, y_train, y_test = train_test_split(x, y, \n",
        "                                                    test_size = 0.25, \n",
        "                                                    random_state = 42)\n"
      ],
      "execution_count": null,
      "outputs": []
    },
    {
      "cell_type": "markdown",
      "metadata": {
        "id": "XTOaqZLpZMJd"
      },
      "source": [
        "# Training models"
      ]
    },
    {
      "cell_type": "markdown",
      "metadata": {
        "id": "RT6GwtPFYkoZ"
      },
      "source": [
        "### 1. Logistic regression Model & evaluation"
      ]
    },
    {
      "cell_type": "code",
      "metadata": {
        "colab": {
          "base_uri": "https://localhost:8080/"
        },
        "id": "Z4WZrhr3Wf-N",
        "outputId": "cabeccf5-6477-4fe1-a21c-6e6f72c0ee14"
      },
      "source": [
        "# (solver='lbfgs', max_iter=1000) = to avoid ConvergenceWarning\n",
        "# logstic model\n",
        "model_lr = LogisticRegression(solver='lbfgs', max_iter=2000)\n",
        "model_lr.fit(x_train, y_train)\n",
        "pred_lr = model_lr.predict(x_test)\n",
        "\n",
        "# evaluation\n",
        "print(f\"the Accuracy is = {int(round(accuracy_score(y_test,pred_lr) * 100))} %\")\n",
        "print(f\"the F1-Score is = {int(round(f1_score(y_test,pred_lr) * 100))} %\")\n",
        "print(f\"the Precision Score is = {int(round(precision_score(y_test,pred_lr) * 100))} %\")\n",
        "print(f\"the Recall Score is = {int(round(recall_score(y_test,pred_lr) * 100))} %\")"
      ],
      "execution_count": null,
      "outputs": [
        {
          "output_type": "stream",
          "text": [
            "the Accuracy is = 77 %\n",
            "the F1-Score is = 85 %\n",
            "the Precision Score is = 75 %\n",
            "the Recall Score is = 98 %\n"
          ],
          "name": "stdout"
        }
      ]
    },
    {
      "cell_type": "markdown",
      "metadata": {
        "id": "eGMTXY_8ZUCH"
      },
      "source": [
        "### 2. Support Vector Machines (SVM) Model & evaluation"
      ]
    },
    {
      "cell_type": "code",
      "metadata": {
        "colab": {
          "base_uri": "https://localhost:8080/"
        },
        "id": "yt8Io6WnZS1Q",
        "outputId": "3cb08079-2abe-42d9-c02c-df0ed27b91c3"
      },
      "source": [
        "model_svm = svm.SVC(kernel='poly')\n",
        "\n",
        "model_svm.fit(x_train, y_train)\n",
        "pred_svm = model_svm.predict(x_test)\n",
        "\n",
        "# evaluate the model\n",
        "print(f\"the Accuracy is = {int(round(accuracy_score(y_test,pred_svm) * 100))} %\")\n",
        "print(f\"the F1-Score is = {int(round(f1_score(y_test,pred_svm) * 100))} %\")\n",
        "print(f\"the Precision Score is = {int(round(precision_score(y_test,pred_svm) * 100))} %\")\n",
        "print(f\"the Recall Score is = {int(round(recall_score(y_test,pred_svm) * 100))} %\")"
      ],
      "execution_count": null,
      "outputs": [
        {
          "output_type": "stream",
          "text": [
            "the Accuracy is = 66 %\n",
            "the F1-Score is = 79 %\n",
            "the Precision Score is = 65 %\n",
            "the Recall Score is = 100 %\n"
          ],
          "name": "stdout"
        }
      ]
    },
    {
      "cell_type": "markdown",
      "metadata": {
        "id": "2hR9Mk_VaNYf"
      },
      "source": [
        "### 3. k-Nearest neighbors (k-NN) Model & evaluation"
      ]
    },
    {
      "cell_type": "code",
      "metadata": {
        "colab": {
          "base_uri": "https://localhost:8080/"
        },
        "id": "lnLDrFoGaNvm",
        "outputId": "d489d0d5-7c6b-48b9-9361-4e76dc93c1bf"
      },
      "source": [
        "# for choosing the best number of neighbors\n",
        "from math import sqrt\n",
        "sqrt(len(x_test))"
      ],
      "execution_count": null,
      "outputs": [
        {
          "output_type": "execute_result",
          "data": {
            "text/plain": [
              "12.409673645990857"
            ]
          },
          "metadata": {
            "tags": []
          },
          "execution_count": 78
        }
      ]
    },
    {
      "cell_type": "code",
      "metadata": {
        "colab": {
          "base_uri": "https://localhost:8080/"
        },
        "id": "F-sJoAyrasa0",
        "outputId": "1065f350-9fc6-4bed-9251-e46253f5698f"
      },
      "source": [
        "#knn model\n",
        "model_knn = KNeighborsClassifier(n_neighbors = 12)\n",
        "model_knn.fit(x_train, y_train)\n",
        "pred_knn = model_knn.predict(x_test)\n",
        "\n",
        "#Evaluation\n",
        "print(f\"the Accuracy is = {int(round(accuracy_score(y_test,pred_knn) * 100))} %\")\n",
        "print(f\"the F1-Score is = {int(round(f1_score(y_test, pred_knn) * 100))} %\")\n",
        "print(f\"the Precision Score is = {int(round(precision_score(y_test, pred_knn) * 100))} %\")\n",
        "print(f\"the Recall Score is = {int(round(recall_score(y_test, pred_knn) * 100))} %\")"
      ],
      "execution_count": null,
      "outputs": [
        {
          "output_type": "stream",
          "text": [
            "the Accuracy is = 61 %\n",
            "the F1-Score is = 74 %\n",
            "the Precision Score is = 65 %\n",
            "the Recall Score is = 87 %\n"
          ],
          "name": "stdout"
        }
      ]
    },
    {
      "cell_type": "markdown",
      "metadata": {
        "id": "2uJ5EpfMbmJg"
      },
      "source": [
        "### 4. Decision Tree (DT) Model & evaluation"
      ]
    },
    {
      "cell_type": "code",
      "metadata": {
        "colab": {
          "base_uri": "https://localhost:8080/"
        },
        "id": "7-uDJxj4bk3M",
        "outputId": "6b5d4b30-302e-4910-adf8-b63021232c8f"
      },
      "source": [
        "#DT model\n",
        "model_DT = DecisionTreeClassifier()\n",
        "model_DT.fit(x_train, y_train)\n",
        "pred_DT = model_DT.predict(x_test)\n",
        "\n",
        "# evaluation\n",
        "print(f\"the Accuracy is = {int(round(accuracy_score(y_test,pred_DT) * 100))} %\")\n",
        "print(f\"the F1-Score is = {int(round(f1_score(y_test, pred_DT) * 100))} %\")\n",
        "print(f\"the Precision Score is = {int(round(precision_score(y_test, pred_DT) * 100))} %\")\n",
        "print(f\"the Recall Score is = {int(round(recall_score(y_test, pred_DT) * 100))} %\")"
      ],
      "execution_count": null,
      "outputs": [
        {
          "output_type": "stream",
          "text": [
            "the Accuracy is = 68 %\n",
            "the F1-Score is = 76 %\n",
            "the Precision Score is = 74 %\n",
            "the Recall Score is = 78 %\n"
          ],
          "name": "stdout"
        }
      ]
    },
    {
      "cell_type": "markdown",
      "metadata": {
        "id": "ketXf0W0cVGy"
      },
      "source": [
        "### 5. Random Forest (RF) Model & evaluation"
      ]
    },
    {
      "cell_type": "code",
      "metadata": {
        "colab": {
          "base_uri": "https://localhost:8080/"
        },
        "id": "3w50-k7LcSg1",
        "outputId": "d69a5d58-0190-49ec-9939-0ec3d7e8b6c4"
      },
      "source": [
        "# Random forest model\n",
        "model_rf = RandomForestClassifier()\n",
        "model_rf.fit(x_train,y_train)\n",
        "pred_rf = model_rf.predict(x_test)\n",
        "\n",
        "# Evaluation\n",
        "print(f\"the Accuracy is = {int(round(accuracy_score(y_test, pred_rf) * 100))} %\")\n",
        "print(f\"the F1-Score is = {int(round(f1_score(y_test, pred_rf) * 100))} %\")\n",
        "print(f\"the Precision Score is = {int(round(precision_score(y_test, pred_rf) * 100))} %\")\n",
        "print(f\"the Recall Score is = {int(round(recall_score(y_test, pred_rf) * 100))} %\")"
      ],
      "execution_count": null,
      "outputs": [
        {
          "output_type": "stream",
          "text": [
            "the Accuracy is = 75 %\n",
            "the F1-Score is = 83 %\n",
            "the Precision Score is = 75 %\n",
            "the Recall Score is = 93 %\n"
          ],
          "name": "stdout"
        }
      ]
    },
    {
      "cell_type": "markdown",
      "metadata": {
        "id": "Rbx7mLfCwxBF"
      },
      "source": [
        "## Calculate Evaluation with Cross-Validation"
      ]
    },
    {
      "cell_type": "code",
      "metadata": {
        "colab": {
          "base_uri": "https://localhost:8080/"
        },
        "id": "UHdfRw9Kc2Fx",
        "outputId": "75498baf-828f-47b9-eb4e-51af4439a297"
      },
      "source": [
        "from sklearn.model_selection import cross_val_score\n",
        "\n",
        "scores1 = cross_val_score(model_lr, x, y, cv=5 ) \n",
        "scores2 = cross_val_score(model_knn, x, y, cv=5 ) \n",
        "scores3 = cross_val_score(model_svm, x, y, cv=5 ) \n",
        "scores4 = cross_val_score(model_DT, x, y, cv=5 ) \n",
        "scores5 = cross_val_score(model_rf, x, y, cv=5 ) \n",
        "print(\"%0.2f Logstic accuracy with a standard deviation of %0.2f\" % (scores1.mean(), scores1.std()))\n",
        "print(\"%0.2f Knn accuracy with a standard deviation of %0.2f\" % (scores2.mean(), scores2.std()))\n",
        "print(\"%0.2f SVM accuracy with a standard deviation of %0.2f\" % (scores3.mean(), scores3.std()))\n",
        "print(\"%0.2f DecisionTree accuracy with a standard deviation of %0.2f\" % (scores4.mean(), scores4.std()))\n",
        "print(\"%0.2f RandomForest accuracy with a standard deviation of %0.2f\" % (scores5.mean(), scores5.std()))"
      ],
      "execution_count": null,
      "outputs": [
        {
          "output_type": "stream",
          "text": [
            "0.80 Logstic accuracy with a standard deviation of 0.03\n",
            "0.66 Knn accuracy with a standard deviation of 0.03\n",
            "0.69 SVM accuracy with a standard deviation of 0.00\n",
            "0.71 DecisionTree accuracy with a standard deviation of 0.03\n",
            "0.79 RandomForest accuracy with a standard deviation of 0.02\n"
          ],
          "name": "stdout"
        }
      ]
    },
    {
      "cell_type": "code",
      "metadata": {
        "colab": {
          "base_uri": "https://localhost:8080/"
        },
        "id": "uNCVmGKZPuRW",
        "outputId": "49de548d-e55d-4f47-aa47-4944a454894f"
      },
      "source": [
        "confusion_matrix(y_test, pred_lr)"
      ],
      "execution_count": null,
      "outputs": [
        {
          "output_type": "execute_result",
          "data": {
            "text/plain": [
              "array([[21, 33],\n",
              "       [ 2, 98]])"
            ]
          },
          "metadata": {
            "tags": []
          },
          "execution_count": 83
        }
      ]
    },
    {
      "cell_type": "code",
      "metadata": {
        "id": "Eh8wFs_2QNaf",
        "colab": {
          "base_uri": "https://localhost:8080/"
        },
        "outputId": "a7aa53ab-c4c4-4b69-d61a-f891599c4da1"
      },
      "source": [
        "confusion_matrix(y_test, pred_svm)"
      ],
      "execution_count": null,
      "outputs": [
        {
          "output_type": "execute_result",
          "data": {
            "text/plain": [
              "array([[  1,  53],\n",
              "       [  0, 100]])"
            ]
          },
          "metadata": {
            "tags": []
          },
          "execution_count": 84
        }
      ]
    },
    {
      "cell_type": "code",
      "metadata": {
        "id": "FY6T0o6GQR0Y",
        "colab": {
          "base_uri": "https://localhost:8080/"
        },
        "outputId": "51d48d92-a646-4dfd-c035-ca9952e32c48"
      },
      "source": [
        "confusion_matrix(y_test, pred_knn)"
      ],
      "execution_count": null,
      "outputs": [
        {
          "output_type": "execute_result",
          "data": {
            "text/plain": [
              "array([[ 7, 47],\n",
              "       [13, 87]])"
            ]
          },
          "metadata": {
            "tags": []
          },
          "execution_count": 85
        }
      ]
    },
    {
      "cell_type": "code",
      "metadata": {
        "id": "jgfSRguhQW5m",
        "colab": {
          "base_uri": "https://localhost:8080/"
        },
        "outputId": "b27d54cd-a490-4845-ee86-977c0a0e1a04"
      },
      "source": [
        "confusion_matrix(y_test, pred_DT)"
      ],
      "execution_count": null,
      "outputs": [
        {
          "output_type": "execute_result",
          "data": {
            "text/plain": [
              "array([[27, 27],\n",
              "       [22, 78]])"
            ]
          },
          "metadata": {
            "tags": []
          },
          "execution_count": 86
        }
      ]
    },
    {
      "cell_type": "code",
      "metadata": {
        "id": "Skt5_z9XQbEf",
        "colab": {
          "base_uri": "https://localhost:8080/"
        },
        "outputId": "553a98b8-7964-4890-b2dd-c298b3e84ed9"
      },
      "source": [
        "confusion_matrix(y_test, pred_rf)"
      ],
      "execution_count": null,
      "outputs": [
        {
          "output_type": "execute_result",
          "data": {
            "text/plain": [
              "array([[23, 31],\n",
              "       [ 7, 93]])"
            ]
          },
          "metadata": {
            "tags": []
          },
          "execution_count": 87
        }
      ]
    },
    {
      "cell_type": "code",
      "metadata": {
        "colab": {
          "base_uri": "https://localhost:8080/",
          "height": 446
        },
        "id": "FDJg5ATFYumP",
        "outputId": "849716d9-6537-4734-9c90-820fa444021f"
      },
      "source": [
        "cf_matrix = confusion_matrix(y_test, pred_lr)\n",
        "\n",
        "group_names = ['True Neg','False Pos','False Neg','True Pos']\n",
        "group_counts = [\"{0:0.0f}\".format(value) for value in\n",
        "                cf_matrix.flatten()]\n",
        "group_percentages = [\"{0:.2%}\".format(value) for value in\n",
        "                     cf_matrix.flatten()/np.sum(cf_matrix)]\n",
        "labels = [f\"{v1}\\n{v2}\\n{v3}\" for v1, v2, v3 in\n",
        "          zip(group_names,group_counts,group_percentages)]\n",
        "labels = np.asarray(labels).reshape(2,2)\n",
        "\n",
        "plt.figure(figsize = (13,7))\n",
        "sns.heatmap(cf_matrix, \n",
        "            annot=labels, \n",
        "            fmt='', \n",
        "            cmap='crest', \n",
        "            linewidths=.8)"
      ],
      "execution_count": null,
      "outputs": [
        {
          "output_type": "execute_result",
          "data": {
            "text/plain": [
              "<matplotlib.axes._subplots.AxesSubplot at 0x7f85687ef790>"
            ]
          },
          "metadata": {
            "tags": []
          },
          "execution_count": 88
        },
        {
          "output_type": "display_data",
          "data": {
            "image/png": "[encoded data removed]",
            "text/plain": [
              "<Figure size 936x504 with 2 Axes>"
            ]
          },
          "metadata": {
            "tags": [],
            "needs_background": "light"
          }
        }
      ]
    },
    {
      "cell_type": "code",
      "metadata": {
        "id": "Kmav23eiFZEU"
      },
      "source": [
        "# 00 = T+: True positive (21) here : the model predicted a positive result and it was positive) == > correct\n",
        "# 01 = F+: False positive (33) here : the model predicted a positive result and it was negative)\n",
        "# 10 = F-: False negative (2) here : the model predicted a negative result and it was positive)\n",
        "# 11 = T-: True negative (98) here : the model predicted a negative result and it was negative) ==> correct"
      ],
      "execution_count": null,
      "outputs": []
    },
    {
      "cell_type": "markdown",
      "metadata": {
        "id": "meSei1goNwkq"
      },
      "source": [
        "####Comment the *Confusion Matrix*:"
      ]
    },
    {
      "cell_type": "markdown",
      "metadata": {
        "id": "evOkXEDiHq98"
      },
      "source": [
        "* All we want is minimize the `false positive` & `false negative` prediction :\n",
        "    - the best model here predicted is **`Logistic Regression model`**, and then **random forest**. \n",
        "    - well, the *confusion matrix* for logistic regression we've got:\n",
        "         * False Negative = **2** , it's very good because there is just tow mistakes when the model predicted the approved loan as rejected, then\n",
        "         * False Positive = **33**, not to bad there is **33** false positive results predicted. the model predicted some rejected loans as approved\n",
        "         * In the other hand **21 & 98** results predicted `correctly` wich mean we got **119 *correct* results** and **35 *false* results**"
      ]
    },
    {
      "cell_type": "markdown",
      "metadata": {
        "id": "f-upg9ebOpW8"
      },
      "source": [
        "####Comment for *Evaluation*:\n",
        "\n"
      ]
    },
    {
      "cell_type": "code",
      "metadata": {
        "id": "UC2jzLYRXtw0"
      },
      "source": [
        "# the Accuracy is = 77 %\n",
        "# the F1-Score is = 85 %\n",
        "# the Precision Score is = 75 %\n",
        "# the Recall Score is = 98 %"
      ],
      "execution_count": null,
      "outputs": []
    },
    {
      "cell_type": "markdown",
      "metadata": {
        "id": "Z_X7Ri_OLFKE"
      },
      "source": [
        "#### The best model for this dataset is logistic regression classifier:\n",
        "1. The **Accuracy** score $=$ $77$% : our model is 77% accurate, wich is good but just correctly predicted observation from total observations. (good but let's see *f1-score*)\n",
        "\n",
        "2. **F1-Score** $=$ $85$% : the model predicted 85%, witch is pretty good, because unlike accuracy, the f1-score takes both FP & FN into account.\n",
        "    - F1-SCORE is usually more useful than accuracy. \n",
        "\n",
        "3. then for **precision score** : We have got 75% precision which is pretty good, from all applicant that labeled as approuved, how many actually approuved? and here we gave High precision wich relates to the **low false positive**\n",
        "\n",
        "* at last **Recall score**: We have got recall of 98% which is very good, the ratio of correctly predicted positive observations from all observations in actual class - yes (approuved), elligible clients 98% accurate perfect just 2% wrongly predicted\n"
      ]
    },
    {
      "cell_type": "code",
      "metadata": {
        "id": "jYiPVpYqqLAd",
        "colab": {
          "base_uri": "https://localhost:8080/"
        },
        "outputId": "5ed8b46f-60e6-4614-bd37-594e3a4979a4"
      },
      "source": [
        "print(pred_lr)\n"
      ],
      "execution_count": null,
      "outputs": [
        {
          "output_type": "stream",
          "text": [
            "[1 1 1 1 1 1 1 1 1 1 0 1 1 1 1 1 1 1 1 1 1 1 1 1 1 1 1 1 1 1 1 1 1 1 1 0 1\n",
            " 1 1 1 1 1 1 1 1 1 1 0 0 0 1 1 0 1 1 1 1 1 0 1 0 1 0 1 1 1 1 1 1 1 0 1 1 1\n",
            " 0 1 1 0 0 1 1 1 1 1 1 1 1 0 1 1 1 0 0 1 1 1 1 1 1 1 1 1 1 1 1 0 1 0 1 1 1\n",
            " 0 1 1 1 1 1 1 1 1 1 1 1 1 1 1 1 0 1 1 0 1 1 0 1 1 1 1 1 1 1 1 1 1 1 1 1 1\n",
            " 1 1 1 1 0 1]\n"
          ],
          "name": "stdout"
        }
      ]
    },
    {
      "cell_type": "code",
      "metadata": {
        "id": "G_lER2T512aX"
      },
      "source": [
        "## TAken data from the dataset\n",
        "# Male=                     1\t\n",
        "# married =                 Yes(1)\n",
        "# dependents =              0\t\n",
        "# education =               not graduate (0)\n",
        "# Self-employed =           1(yes)\t\n",
        "# income =                  2609\t\n",
        "# co-icome =                3449\t\n",
        "# amount =                  165\t(165000 $)\n",
        "# term =                    180\tmonth\n",
        "# credit history            0(no)\n",
        "# area                      Rural(1)\n",
        "\n",
        "#rejected (0)\tN\n",
        "\n",
        "t = model_lr.predict([[1,\t0,\t0,\t0,\t1,\t2609.0,\t3449.0,\t165,\t180,\t0,\t2]])"
      ],
      "execution_count": null,
      "outputs": []
    },
    {
      "cell_type": "code",
      "metadata": {
        "colab": {
          "base_uri": "https://localhost:8080/"
        },
        "id": "UBo-g7tB2QVW",
        "outputId": "c52fd497-083e-4db4-9990-396a9a865ce8"
      },
      "source": [
        "print(t)"
      ],
      "execution_count": null,
      "outputs": [
        {
          "output_type": "stream",
          "text": [
            "[0]\n"
          ],
          "name": "stdout"
        }
      ]
    }
  ]
}